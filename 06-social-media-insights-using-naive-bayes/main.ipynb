{
 "cells": [
  {
   "cell_type": "code",
   "execution_count": 243,
   "metadata": {},
   "outputs": [],
   "source": [
    "import os\n",
    "import json\n",
    "\n",
    "import numpy as np\n",
    "from nltk.tokenize import word_tokenize\n",
    "from nltk.corpus import stopwords\n",
    "\n",
    "from sklearn.base import TransformerMixin\n",
    "from sklearn.feature_extraction import DictVectorizer\n",
    "from sklearn.feature_extraction.text import TfidfVectorizer\n",
    "from sklearn.model_selection import cross_val_score\n",
    "from sklearn.naive_bayes import BernoulliNB\n",
    "from sklearn.pipeline import Pipeline"
   ]
  },
  {
   "cell_type": "code",
   "execution_count": 190,
   "metadata": {},
   "outputs": [],
   "source": [
    "input_path = 'data/python_tweets.json'\n",
    "label_path = 'data/python_classes.json'"
   ]
  },
  {
   "cell_type": "code",
   "execution_count": 197,
   "metadata": {},
   "outputs": [],
   "source": [
    "tweets = []\n",
    "\n",
    "with open(input_path) as f:\n",
    "    for line in f:\n",
    "        if len(line.strip()) == 0:\n",
    "            continue\n",
    "        tweets.append(json.loads(line)) # For marking the data, remove the access to 'text'."
   ]
  },
  {
   "cell_type": "code",
   "execution_count": 192,
   "metadata": {},
   "outputs": [
    {
     "data": {
      "text/plain": [
       "150"
      ]
     },
     "execution_count": 192,
     "metadata": {},
     "output_type": "execute_result"
    }
   ],
   "source": [
    "len(tweets)"
   ]
  },
  {
   "cell_type": "code",
   "execution_count": 193,
   "metadata": {},
   "outputs": [],
   "source": [
    "labels = []\n",
    "\n",
    "if os.path.exists(label_path):\n",
    "    with open(label_path) as f:\n",
    "        labels = json.load(f)"
   ]
  },
  {
   "cell_type": "code",
   "execution_count": 194,
   "metadata": {},
   "outputs": [
    {
     "data": {
      "text/plain": [
       "150"
      ]
     },
     "execution_count": 194,
     "metadata": {},
     "output_type": "execute_result"
    }
   ],
   "source": [
    "len(labels)"
   ]
  },
  {
   "cell_type": "code",
   "execution_count": 195,
   "metadata": {},
   "outputs": [],
   "source": [
    "def get_next_tweet():\n",
    "    return tweets[len(labels)]['text']"
   ]
  },
  {
   "cell_type": "code",
   "execution_count": 196,
   "metadata": {},
   "outputs": [
    {
     "ename": "IndexError",
     "evalue": "list index out of range",
     "output_type": "error",
     "traceback": [
      "\u001b[0;31m---------------------------------------------------------------------------\u001b[0m",
      "\u001b[0;31mIndexError\u001b[0m                                Traceback (most recent call last)",
      "\u001b[0;32m<ipython-input-196-4748df606538>\u001b[0m in \u001b[0;36m<module>\u001b[0;34m\u001b[0m\n\u001b[0;32m----> 1\u001b[0;31m \u001b[0mget_next_tweet\u001b[0m\u001b[0;34m(\u001b[0m\u001b[0;34m)\u001b[0m\u001b[0;34m\u001b[0m\u001b[0;34m\u001b[0m\u001b[0m\n\u001b[0m",
      "\u001b[0;32m<ipython-input-195-73e0f90d032f>\u001b[0m in \u001b[0;36mget_next_tweet\u001b[0;34m()\u001b[0m\n\u001b[1;32m      1\u001b[0m \u001b[0;32mdef\u001b[0m \u001b[0mget_next_tweet\u001b[0m\u001b[0;34m(\u001b[0m\u001b[0;34m)\u001b[0m\u001b[0;34m:\u001b[0m\u001b[0;34m\u001b[0m\u001b[0;34m\u001b[0m\u001b[0m\n\u001b[0;32m----> 2\u001b[0;31m     \u001b[0;32mreturn\u001b[0m \u001b[0mtweets\u001b[0m\u001b[0;34m[\u001b[0m\u001b[0mlen\u001b[0m\u001b[0;34m(\u001b[0m\u001b[0mlabels\u001b[0m\u001b[0;34m)\u001b[0m\u001b[0;34m]\u001b[0m\u001b[0;34m[\u001b[0m\u001b[0;34m'text'\u001b[0m\u001b[0;34m]\u001b[0m\u001b[0;34m\u001b[0m\u001b[0;34m\u001b[0m\u001b[0m\n\u001b[0m",
      "\u001b[0;31mIndexError\u001b[0m: list index out of range"
     ]
    }
   ],
   "source": [
    "get_next_tweet()"
   ]
  },
  {
   "cell_type": "code",
   "execution_count": null,
   "metadata": {},
   "outputs": [],
   "source": [
    "%%javascript\n",
    "\n",
    "function handle_output(out) {\n",
    "    $('div#tweet_text').html(out);\n",
    "}\n",
    "\n",
    "function execute_python(python_method, callback) {\n",
    "    var kernel = IPython.notebook.kernel;\n",
    "    var callbacks = {\n",
    "        iopub: {\n",
    "            output: (out) => callback(out.content.text.trim())\n",
    "        }\n",
    "    };\n",
    "    kernel.execute(python_method, callbacks, {silent: false});\n",
    "}\n",
    "\n",
    "function load_next_tweet() {\n",
    "    execute_python('get_next_tweet()', handle_output)\n",
    "}\n",
    "\n",
    "function set_label(label) {\n",
    "    var kernel = IPython.notebook.kernel;\n",
    "    kernel.execute('labels.append(' + label + ')');\n",
    "    load_next_tweet();\n",
    "}"
   ]
  },
  {
   "cell_type": "code",
   "execution_count": null,
   "metadata": {},
   "outputs": [],
   "source": [
    "%%html\n",
    "\n",
    "<div name=\"tweetbox\">\n",
    "    Instructions: Click in textbox. Enter a 1 if the tweet is relevant, enter 0 otherwise.\n",
    "    <br> Tweet: \n",
    "    <div id=\"tweet_text\" value=\"text\"></div>\n",
    "    <br> \n",
    "    <input type=text id=\"capture\"></input>\n",
    "    <br> \n",
    "</div>\n",
    "\n",
    "<script>\n",
    "    $('input#capture').keypress(function(e) {\n",
    "        // Number 0.\n",
    "        if (e.which === 48) {\n",
    "            set_label(0)\n",
    "            $('input#capture').val('')\n",
    "        } else if (e.which === 49) {\n",
    "        // Number 1.\n",
    "            set_label(1)\n",
    "            $('input#capture').val('')\n",
    "        }\n",
    "    });\n",
    "    load_next_tweet();\n",
    "</script>"
   ]
  },
  {
   "cell_type": "code",
   "execution_count": null,
   "metadata": {},
   "outputs": [],
   "source": [
    "len(labels)"
   ]
  },
  {
   "cell_type": "code",
   "execution_count": null,
   "metadata": {},
   "outputs": [],
   "source": [
    "if os.path.exists(label_path):\n",
    "    print(f'{label_path} already exists')\n",
    "    pass\n",
    "else:\n",
    "    with open(label_path, 'w') as f:\n",
    "        json.dumps(labels, f)"
   ]
  },
  {
   "cell_type": "code",
   "execution_count": null,
   "metadata": {},
   "outputs": [],
   "source": [
    "# %tkinter inline\n",
    "# import tkinter\n",
    "\n",
    "# window = tkinter.Tk()\n",
    "# # to rename the title of the window\n",
    "# window.title(\"GUI\")\n",
    "# # pack is used to show the object in the window\n",
    "# label = tkinter.Label(window, text = \"Hello World!\").pack()\n",
    "# window.mainloop()"
   ]
  },
  {
   "cell_type": "code",
   "execution_count": 246,
   "metadata": {},
   "outputs": [],
   "source": [
    "stop_words = set(stopwords.words('english'))\n",
    "class NltkBow(TransformerMixin):\n",
    "    def fit(self, X, y=None):\n",
    "        return self\n",
    "    def transform(self, X):\n",
    "        return [{word: True \n",
    "                 for word in word_tokenize(document)\n",
    "                 if len(word) > 3\n",
    "                 and word not in stop_words}\n",
    "                for document in X]"
   ]
  },
  {
   "cell_type": "code",
   "execution_count": 247,
   "metadata": {},
   "outputs": [],
   "source": [
    "pipeline = Pipeline([\n",
    "    ('bow', NltkBow()),\n",
    "    ('vectorizer', DictVectorizer()),\n",
    "#     ('vectorizer2', TfidfVectorizer(lowercase=True)),\n",
    "    ('classifier', BernoulliNB())\n",
    "])"
   ]
  },
  {
   "cell_type": "code",
   "execution_count": 248,
   "metadata": {},
   "outputs": [
    {
     "data": {
      "text/plain": [
       "0.8591436633541896"
      ]
     },
     "execution_count": 248,
     "metadata": {},
     "output_type": "execute_result"
    }
   ],
   "source": [
    "scores = cross_val_score(pipeline, [tweet['text'] for tweet in tweets], labels, scoring='f1', cv=5)\n",
    "np.mean(scores)"
   ]
  },
  {
   "cell_type": "code",
   "execution_count": 249,
   "metadata": {},
   "outputs": [],
   "source": [
    "model = pipeline.fit([tweet['text'] for tweet in tweets], labels)\n",
    "clf = model.named_steps['classifier']"
   ]
  },
  {
   "cell_type": "code",
   "execution_count": 250,
   "metadata": {},
   "outputs": [
    {
     "data": {
      "text/plain": [
       "array([310, 193, 385, 211,  98, 369, 368, 367, 347,  93, 317, 312, 107,\n",
       "       283,   0, 195,   4, 237, 153, 172,  94, 327, 330, 332, 334, 229,\n",
       "        71,  67, 364, 214, 241, 245, 203, 249, 275, 141, 276, 137, 280,\n",
       "       252, 131, 286, 128, 379, 118, 110, 251, 105, 104, 253])"
      ]
     },
     "execution_count": 250,
     "metadata": {},
     "output_type": "execute_result"
    }
   ],
   "source": [
    "feature_log_probabilities = clf.feature_log_prob_\n",
    "top_features = np.argsort(-feature_log_probabilities[1])[:50]\n",
    "top_features"
   ]
  },
  {
   "cell_type": "code",
   "execution_count": 251,
   "metadata": {},
   "outputs": [],
   "source": [
    "vectorizer = model.named_steps['vectorizer']"
   ]
  },
  {
   "cell_type": "code",
   "execution_count": 252,
   "metadata": {},
   "outputs": [
    {
     "name": "stdout",
     "output_type": "stream",
     "text": [
      " 0 https                0.663\n",
      " 1 Python               0.564\n",
      " 2 python               0.277\n",
      " 3 Science              0.089\n",
      " 4 Data                 0.089\n",
      " 5 pathlib.Path.mkdir   0.069\n",
      " 6 pathlib.Path         0.069\n",
      " 7 pathlib              0.069\n",
      " 8 method               0.069\n",
      " 9 Create               0.069\n",
      "10 import               0.069\n",
      "11 htt…                 0.069\n",
      "12 Developer            0.069\n",
      "13 directories          0.069\n",
      "14 '/my/new/directory   0.069\n",
      "15 PythonWeekly         0.069\n",
      "16 .mkdir               0.069\n",
      "17 With                 0.059\n",
      "18 Learning             0.050\n",
      "19 Movie-Ratings        0.050\n",
      "20 Credit-Card          0.050\n",
      "21 kdnuggets            0.050\n",
      "22 language             0.050\n",
      "23 learn                0.050\n",
      "24 libsvm               0.050\n",
      "25 Transactions         0.050\n",
      "26 Artificial           0.050\n",
      "27 Analysis             0.050\n",
      "28 parents=Tr…          0.050\n",
      "29 Server               0.050\n",
      "30 accelerated          0.050\n",
      "31 answer               0.050\n",
      "32 Reinforcement        0.050\n",
      "33 author               0.050\n",
      "34 data                 0.050\n",
      "35 Intelligence         0.050\n",
      "36 datascience          0.050\n",
      "37 Hy2gSaxQf            0.050\n",
      "38 deliprao             0.050\n",
      "39 bigdata              0.050\n",
      "40 HTML                 0.050\n",
      "41 drop-in              0.050\n",
      "42 Google               0.050\n",
      "43 programming          0.050\n",
      "44 Exploratory          0.050\n",
      "45 Django               0.050\n",
      "46 based                0.050\n",
      "47 Detection            0.050\n",
      "48 Deep_learningz       0.050\n",
      "49 bindings             0.050\n"
     ]
    }
   ],
   "source": [
    "for i, feature_index in enumerate(top_features):\n",
    "    print(f'{i:2d}', \n",
    "          '{:20s}'.format(vectorizer.feature_names_[feature_index]), \n",
    "          '{:.3f}'.format(np.exp(feature_log_probabilities[1][feature_index])))"
   ]
  },
  {
   "cell_type": "code",
   "execution_count": null,
   "metadata": {},
   "outputs": [],
   "source": []
  }
 ],
 "metadata": {
  "kernelspec": {
   "display_name": "Python 3",
   "language": "python",
   "name": "python3"
  },
  "language_info": {
   "codemirror_mode": {
    "name": "ipython",
    "version": 3
   },
   "file_extension": ".py",
   "mimetype": "text/x-python",
   "name": "python",
   "nbconvert_exporter": "python",
   "pygments_lexer": "ipython3",
   "version": "3.7.3"
  }
 },
 "nbformat": 4,
 "nbformat_minor": 2
}
