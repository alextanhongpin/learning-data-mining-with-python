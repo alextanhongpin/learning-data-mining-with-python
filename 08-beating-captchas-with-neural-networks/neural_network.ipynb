{
 "cells": [
  {
   "cell_type": "code",
   "execution_count": 57,
   "metadata": {},
   "outputs": [],
   "source": [
    "%matplotlib inline\n",
    "\n",
    "import numpy as np\n",
    "\n",
    "from PIL import Image, ImageDraw, ImageFont\n",
    "from skimage import transform as tf\n",
    "from skimage.measure import label, regionprops\n",
    "\n",
    "from matplotlib import pyplot as plt"
   ]
  },
  {
   "cell_type": "code",
   "execution_count": 71,
   "metadata": {},
   "outputs": [
    {
     "data": {
      "text/plain": [
       "<matplotlib.image.AxesImage at 0x107d02518>"
      ]
     },
     "execution_count": 71,
     "metadata": {},
     "output_type": "execute_result"
    },
    {
     "data": {
      "image/png": "[encoded data removed]",
      "text/plain": [
       "<matplotlib.figure.Figure at 0x107617198>"
      ]
     },
     "metadata": {},
     "output_type": "display_data"
    }
   ],
   "source": [
    "def create_captcha(text, shear=0, size=(100, 24)):\n",
    "    im = Image.new('L', size, 'black')\n",
    "    draw = ImageDraw.Draw(im)\n",
    "    font = ImageFont.truetype(r'Coval-Regular.otf', 22)\n",
    "    draw.text((2, 2), text, fill=1, font=font)\n",
    "\n",
    "    image = np.array(im)\n",
    "    affine_tf = tf.AffineTransform(shear=shear)\n",
    "    image = tf.warp(image, affine_tf)\n",
    "    return image / image.max()\n",
    "\n",
    "image = create_captcha('GENE', shear=0.5)\n",
    "plt.imshow(image, cmap='Greys')"
   ]
  },
  {
   "cell_type": "code",
   "execution_count": 75,
   "metadata": {},
   "outputs": [],
   "source": [
    "def segment_image(image):\n",
    "    \"\"\"Breaks the image into separate segments\n",
    "    \n",
    "    Arguments:\n",
    "    ----------\n",
    "    image: ndarray\n",
    "        An array of image in pixels 0 and 1s\n",
    "    \n",
    "    Returns:\n",
    "    --------\n",
    "    subimages: ndarray\n",
    "        An array of segment\n",
    "    \"\"\"\n",
    "    \n",
    "    labeled_image = label(image > 0)\n",
    "    subimages = []\n",
    "    for region in regionprops(labeled_image):\n",
    "        start_x, start_y, end_x, end_y = region.bbox\n",
    "        subimages.append(image[start_x:end_x, start_y:end_y])\n",
    "    \n",
    "    if len(subimages) == 0:\n",
    "        return [image, ]\n",
    "    return subimages"
   ]
  },
  {
   "cell_type": "code",
   "execution_count": 73,
   "metadata": {},
   "outputs": [
    {
     "name": "stdout",
     "output_type": "stream",
     "text": [
      "region <skimage.measure._regionprops._RegionProperties object at 0x107cca7f0>\n",
      "region <skimage.measure._regionprops._RegionProperties object at 0x107cca940>\n",
      "region <skimage.measure._regionprops._RegionProperties object at 0x107cca9b0>\n",
      "region <skimage.measure._regionprops._RegionProperties object at 0x107ccaa58>\n"
     ]
    }
   ],
   "source": [
    "subimages = segment_image(image)\n",
    "subimages"
   ]
  },
  {
   "cell_type": "code",
   "execution_count": 77,
   "metadata": {},
   "outputs": [
    {
     "data": {
      "image/png": "[encoded data removed]",
      "text/plain": [
       "<matplotlib.figure.Figure at 0x1070010f0>"
      ]
     },
     "metadata": {},
     "output_type": "display_data"
    }
   ],
   "source": [
    "f, axes = plt.subplots(1, len(subimages), figsize=(10, 3))\n",
    "for i in range(len(subimages)):\n",
    "    axes[i].imshow(subimages[i], cmap='gray')"
   ]
  }
 ],
 "metadata": {
  "kernelspec": {
   "display_name": "Python 3",
   "language": "python",
   "name": "python3"
  },
  "language_info": {
   "codemirror_mode": {
    "name": "ipython",
    "version": 3
   },
   "file_extension": ".py",
   "mimetype": "text/x-python",
   "name": "python",
   "nbconvert_exporter": "python",
   "pygments_lexer": "ipython3",
   "version": "3.6.3"
  }
 },
 "nbformat": 4,
 "nbformat_minor": 2
}
