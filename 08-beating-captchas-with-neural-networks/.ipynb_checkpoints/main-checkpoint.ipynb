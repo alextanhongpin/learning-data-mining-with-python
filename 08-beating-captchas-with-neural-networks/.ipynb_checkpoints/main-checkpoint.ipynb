{
 "cells": [
  {
   "cell_type": "code",
   "execution_count": 238,
   "metadata": {},
   "outputs": [],
   "source": [
    "%matplotlib inline\n",
    "\n",
    "import numpy as np\n",
    "import matplotlib.pyplot as plt\n",
    "import operator\n",
    "\n",
    "from collections import defaultdict\n",
    "\n",
    "from PIL import Image, ImageDraw, ImageFont\n",
    "\n",
    "from skimage import transform as tf\n",
    "from skimage.measure import label, regionprops\n",
    "from skimage.transform import resize\n",
    "\n",
    "from sklearn.utils import check_random_state\n",
    "from sklearn.preprocessing import OneHotEncoder\n",
    "from sklearn.model_selection import train_test_split\n",
    "from sklearn.metrics import f1_score, confusion_matrix\n",
    "\n",
    "# ! Special installation required.\n",
    "# Clone the repo at https://github.com/pybrain/pybrain, then run 'python3 setup.py install'.\n",
    "# vim /usr/local/lib/python3.7/site-packages/pybrain/tools/functions.py\n",
    "# Change this line:\n",
    "# from: from scipy.linalg import inv, det, svd, logm, expm2 to \n",
    "# to  : from scipy.linalg import inv, det, svd, logm, expm\n",
    "from pybrain.datasets import SupervisedDataSet\n",
    "from pybrain.tools.shortcuts import buildNetwork\n",
    "from pybrain.supervised.trainers import BackpropTrainer\n",
    "\n",
    "from nltk import edit_distance\n",
    "from nltk.corpus import words"
   ]
  },
  {
   "cell_type": "code",
   "execution_count": 194,
   "metadata": {},
   "outputs": [],
   "source": [
    "def create_captcha(text, shear=0, size=(100, 24)):\n",
    "    im = Image.new('L', size, 'black')\n",
    "    draw = ImageDraw.Draw(im)\n",
    "    font = ImageFont.truetype(r'Coval-Regular.otf', 22)\n",
    "    draw.text((2, 2), text, fill=1, font=font)\n",
    "    \n",
    "    image = np.array(im)\n",
    "    affine_tf = tf.AffineTransform(shear=shear, \n",
    "                                   translation=(0, 5)) # This is to fix the hidden image.\n",
    "    image = tf.warp(image, affine_tf)\n",
    "    return image / image.max()"
   ]
  },
  {
   "cell_type": "code",
   "execution_count": 195,
   "metadata": {},
   "outputs": [
    {
     "data": {
      "text/plain": [
       "<matplotlib.image.AxesImage at 0x12b7e80b8>"
      ]
     },
     "execution_count": 195,
     "metadata": {},
     "output_type": "execute_result"
    },
    {
     "data": {
      "image/png": "[encoded data removed]",
      "text/plain": [
       "<Figure size 432x288 with 1 Axes>"
      ]
     },
     "metadata": {
      "needs_background": "light"
     },
     "output_type": "display_data"
    }
   ],
   "source": [
    "image = create_captcha('GENE', shear=0.5)\n",
    "plt.imshow(image, cmap='Greys')"
   ]
  },
  {
   "cell_type": "code",
   "execution_count": 196,
   "metadata": {},
   "outputs": [],
   "source": [
    "def segment_image(image):\n",
    "    labeled_image = label(image > 0)\n",
    "    subimages = []\n",
    "    \n",
    "    for region in regionprops(labeled_image):\n",
    "        start_x, start_y, end_x, end_y = region.bbox\n",
    "        subimages.append(image[start_x:end_x, start_y:end_y])\n",
    "    \n",
    "    if len(subimages) == 0:\n",
    "        return [image,]\n",
    "    return subimages"
   ]
  },
  {
   "cell_type": "code",
   "execution_count": 197,
   "metadata": {},
   "outputs": [
    {
     "data": {
      "image/png": "[encoded data removed]",
      "text/plain": [
       "<Figure size 720x216 with 4 Axes>"
      ]
     },
     "metadata": {
      "needs_background": "light"
     },
     "output_type": "display_data"
    }
   ],
   "source": [
    "subimages = segment_image(image)\n",
    "f, axes = plt.subplots(1, len(subimages), figsize=(10, 3))\n",
    "\n",
    "for i in range(len(subimages)):\n",
    "    axes[i].imshow(subimages[i], cmap='gray')"
   ]
  },
  {
   "cell_type": "code",
   "execution_count": 198,
   "metadata": {},
   "outputs": [],
   "source": [
    "random_state = check_random_state(14)\n",
    "letters = list('ABCDEFGHIJKLMNOPQRSTUVWXYZ')\n",
    "shear_values = np.arange(0, 0.5, 0.05)"
   ]
  },
  {
   "cell_type": "code",
   "execution_count": 199,
   "metadata": {},
   "outputs": [],
   "source": [
    "def generate_sample(random_state=None):\n",
    "    random_state = check_random_state(random_state)\n",
    "    letter = random_state.choice(letters)\n",
    "    shear = random_state.choice(shear_values)\n",
    "    \n",
    "    return create_captcha(letter, shear=shear, size=(20, 20)), letters.index(letter)"
   ]
  },
  {
   "cell_type": "code",
   "execution_count": 200,
   "metadata": {},
   "outputs": [
    {
     "data": {
      "text/plain": [
       "<matplotlib.image.AxesImage at 0x12277b6a0>"
      ]
     },
     "execution_count": 200,
     "metadata": {},
     "output_type": "execute_result"
    },
    {
     "data": {
      "image/png": "[encoded data removed]",
      "text/plain": [
       "<Figure size 432x288 with 1 Axes>"
      ]
     },
     "metadata": {
      "needs_background": "light"
     },
     "output_type": "display_data"
    }
   ],
   "source": [
    "image, target = generate_sample(random_state)\n",
    "plt.imshow(image, cmap='Greys')"
   ]
  },
  {
   "cell_type": "code",
   "execution_count": 201,
   "metadata": {},
   "outputs": [
    {
     "data": {
      "text/plain": [
       "'The target for this image is L'"
      ]
     },
     "execution_count": 201,
     "metadata": {},
     "output_type": "execute_result"
    }
   ],
   "source": [
    "f'The target for this image is {letters[target]}'"
   ]
  },
  {
   "cell_type": "code",
   "execution_count": 202,
   "metadata": {},
   "outputs": [],
   "source": [
    "dataset, targets = zip(*(generate_sample(random_state) \n",
    "                         for i in range(3000)))\n",
    "dataset = np.array(dataset, dtype=np.float64)\n",
    "targets = np.array(targets)"
   ]
  },
  {
   "cell_type": "code",
   "execution_count": 203,
   "metadata": {},
   "outputs": [
    {
     "data": {
      "text/plain": [
       "matrix([[0., 0., 0., 0., 0., 0., 0., 0., 0., 0., 0., 0., 1., 0., 0., 0.,\n",
       "         0., 0., 0., 0., 0., 0., 0., 0., 0., 0.]])"
      ]
     },
     "execution_count": 203,
     "metadata": {},
     "output_type": "execute_result"
    }
   ],
   "source": [
    "onehot = OneHotEncoder(categories='auto')\n",
    "y = onehot.fit_transform(targets.reshape(-1, 1))\n",
    "y = y.todense()\n",
    "y[0]"
   ]
  },
  {
   "cell_type": "code",
   "execution_count": 204,
   "metadata": {},
   "outputs": [],
   "source": [
    "dataset = np.array([resize(segment_image(sample)[0], (20, 20)) \n",
    "                    for sample in dataset])"
   ]
  },
  {
   "cell_type": "code",
   "execution_count": 205,
   "metadata": {},
   "outputs": [
    {
     "data": {
      "text/plain": [
       "((3000, 20, 20), (3000, 400))"
      ]
     },
     "execution_count": 205,
     "metadata": {},
     "output_type": "execute_result"
    }
   ],
   "source": [
    "X = dataset.reshape((dataset.shape[0], dataset.shape[1] * dataset.shape[2]))\n",
    "dataset.shape, X.shape"
   ]
  },
  {
   "cell_type": "code",
   "execution_count": 206,
   "metadata": {},
   "outputs": [],
   "source": [
    "X_train, X_test, y_train, y_test = train_test_split(X, y, train_size=0.9)"
   ]
  },
  {
   "cell_type": "markdown",
   "metadata": {},
   "source": [
    "## Training and Classifying"
   ]
  },
  {
   "cell_type": "code",
   "execution_count": 207,
   "metadata": {},
   "outputs": [],
   "source": [
    "training = SupervisedDataSet(X.shape[1], y.shape[1])\n",
    "for i in range(X_train.shape[0]):\n",
    "    training.addSample(X_train[i], y_train[i])"
   ]
  },
  {
   "cell_type": "code",
   "execution_count": 208,
   "metadata": {},
   "outputs": [],
   "source": [
    "testing = SupervisedDataSet(X.shape[1], y.shape[1])\n",
    "for i in range(X_test.shape[0]):\n",
    "    testing.addSample(X_test[i], y_test[i])"
   ]
  },
  {
   "cell_type": "code",
   "execution_count": 209,
   "metadata": {},
   "outputs": [],
   "source": [
    "net = buildNetwork(X.shape[1], 100, y.shape[1], bias=True)"
   ]
  },
  {
   "cell_type": "code",
   "execution_count": 210,
   "metadata": {},
   "outputs": [],
   "source": [
    "trainer = BackpropTrainer(net, \n",
    "                          training, \n",
    "                          learningrate=0.01,\n",
    "                          weightdecay=0.01)"
   ]
  },
  {
   "cell_type": "code",
   "execution_count": 211,
   "metadata": {},
   "outputs": [],
   "source": [
    "trainer.trainEpochs(epochs=20)"
   ]
  },
  {
   "cell_type": "code",
   "execution_count": 212,
   "metadata": {},
   "outputs": [],
   "source": [
    "predictions = trainer.testOnClassData(dataset=testing, verbose=True)"
   ]
  },
  {
   "cell_type": "code",
   "execution_count": 213,
   "metadata": {},
   "outputs": [
    {
     "data": {
      "text/plain": [
       "'F-score: 0.80'"
      ]
     },
     "execution_count": 213,
     "metadata": {},
     "output_type": "execute_result"
    }
   ],
   "source": [
    "f'F-score: {f1_score(predictions, y_test.argmax(axis=1), average=\"micro\"):.2f}'"
   ]
  },
  {
   "cell_type": "code",
   "execution_count": 214,
   "metadata": {},
   "outputs": [],
   "source": [
    "def predict_captcha(captcha_image, neural_network):\n",
    "    subimages = segment_image(captcha_image)\n",
    "    predicted_word = ''\n",
    "    \n",
    "    for subimage in subimages:\n",
    "        subimage = resize(subimage, (20, 20))\n",
    "        outputs = net.activate(subimage.flatten())\n",
    "        prediction = np.argmax(outputs)\n",
    "        predicted_word += letters[prediction]\n",
    "    return predicted_word"
   ]
  },
  {
   "cell_type": "code",
   "execution_count": 215,
   "metadata": {},
   "outputs": [
    {
     "data": {
      "text/plain": [
       "'MMMA'"
      ]
     },
     "execution_count": 215,
     "metadata": {},
     "output_type": "execute_result"
    },
    {
     "data": {
      "image/png": "[encoded data removed]",
      "text/plain": [
       "<Figure size 432x288 with 1 Axes>"
      ]
     },
     "metadata": {
      "needs_background": "light"
     },
     "output_type": "display_data"
    }
   ],
   "source": [
    "word = 'GENE'\n",
    "captcha = create_captcha(word, shear=0.4)\n",
    "plt.imshow(captcha, cmap='Greys')\n",
    "predict_captcha(captcha, net)"
   ]
  },
  {
   "cell_type": "code",
   "execution_count": 216,
   "metadata": {},
   "outputs": [],
   "source": [
    "def test_prediction(word, net, shear=0.2):\n",
    "    captcha = create_captcha(word, shear=shear)\n",
    "    prediction = predict_captcha(captcha, net)\n",
    "    prediction = prediction[:4]\n",
    "    return word == prediction, word, prediction"
   ]
  },
  {
   "cell_type": "code",
   "execution_count": 217,
   "metadata": {},
   "outputs": [
    {
     "data": {
      "text/plain": [
       "5513"
      ]
     },
     "execution_count": 217,
     "metadata": {},
     "output_type": "execute_result"
    }
   ],
   "source": [
    "valid_words = [word.upper() \n",
    "               for word in words.words() \n",
    "               if len(word) == 4]\n",
    "len(valid_words)"
   ]
  },
  {
   "cell_type": "code",
   "execution_count": 218,
   "metadata": {},
   "outputs": [],
   "source": [
    "num_correct = 0\n",
    "num_incorrect = 0\n",
    "\n",
    "for word in valid_words:\n",
    "    correct, word, prediction = test_prediction(word, \n",
    "                                                net, \n",
    "                                                shear=0.2)\n",
    "    if correct:\n",
    "        num_correct += 1\n",
    "    else:\n",
    "        num_incorrect += 1"
   ]
  },
  {
   "cell_type": "code",
   "execution_count": 219,
   "metadata": {},
   "outputs": [
    {
     "data": {
      "text/plain": [
       "(61, 5452)"
      ]
     },
     "execution_count": 219,
     "metadata": {},
     "output_type": "execute_result"
    }
   ],
   "source": [
    "num_correct, num_incorrect"
   ]
  },
  {
   "cell_type": "code",
   "execution_count": 220,
   "metadata": {},
   "outputs": [],
   "source": [
    "cm = confusion_matrix(np.argmax(y_test, axis=1), predictions)"
   ]
  },
  {
   "cell_type": "code",
   "execution_count": 221,
   "metadata": {},
   "outputs": [
    {
     "data": {
      "text/plain": [
       "Text(0.5, 0, 'Predicted')"
      ]
     },
     "execution_count": 221,
     "metadata": {},
     "output_type": "execute_result"
    },
    {
     "data": {
      "image/png": "[encoded data removed]",
      "text/plain": [
       "<Figure size 720x720 with 1 Axes>"
      ]
     },
     "metadata": {
      "needs_background": "light"
     },
     "output_type": "display_data"
    }
   ],
   "source": [
    "plt.figure(figsize=(10, 10))\n",
    "plt.imshow(cm)\n",
    "tick_marks = np.arange(len(letters))\n",
    "plt.xticks(tick_marks, letters)\n",
    "plt.yticks(tick_marks, letters)\n",
    "plt.ylabel('Actual')\n",
    "plt.xlabel('Predicted')"
   ]
  },
  {
   "cell_type": "code",
   "execution_count": 222,
   "metadata": {},
   "outputs": [],
   "source": [
    "## Improving accuracy using dictionary."
   ]
  },
  {
   "cell_type": "code",
   "execution_count": 233,
   "metadata": {},
   "outputs": [
    {
     "data": {
      "text/plain": [
       "'The number of steps needed is 1'"
      ]
     },
     "execution_count": 233,
     "metadata": {},
     "output_type": "execute_result"
    }
   ],
   "source": [
    "steps = edit_distance('STEP', 'STOP')\n",
    "f'The number of steps needed is {steps}'"
   ]
  },
  {
   "cell_type": "code",
   "execution_count": null,
   "metadata": {},
   "outputs": [],
   "source": [
    "def compute_distance(prediction, word):\n",
    "    return len(prediction) - sum(prediction[i] == word[i] \n",
    "                                 for i in range(len(prediction)))"
   ]
  },
  {
   "cell_type": "code",
   "execution_count": null,
   "metadata": {},
   "outputs": [],
   "source": [
    "def improved_prediction(word, net, dictionary, shear=0.2):\n",
    "    captcha = create_captcha(word, shear=shear)\n",
    "    prediction = predict_captcha(captcha, net)\n",
    "    prediction = prediction[:4]\n",
    "    \n",
    "    if prediction not in dictionary:\n",
    "        distances = sorted([(word, compute_distance(prediction, word))\n",
    "                            for word in dictionary], \n",
    "                           key=operator.itemgetter(1))\n",
    "        best_word = distances[0]\n",
    "        prediction = best_word[0]\n",
    "    return word == prediction, word, prediction"
   ]
  },
  {
   "cell_type": "code",
   "execution_count": null,
   "metadata": {},
   "outputs": [],
   "source": [
    "result = defaultdict(int)\n",
    "for word in valid_words:\n",
    "    correct, word, predictions = improved_prediction(word,\n",
    "                                                     net, \n",
    "                                                     valid_words,\n",
    "                                                     shear=0.2)\n",
    "    result[correct] += 1"
   ]
  },
  {
   "cell_type": "code",
   "execution_count": null,
   "metadata": {},
   "outputs": [],
   "source": [
    "result"
   ]
  },
  {
   "cell_type": "code",
   "execution_count": null,
   "metadata": {},
   "outputs": [],
   "source": []
  }
 ],
 "metadata": {
  "kernelspec": {
   "display_name": "Python 3",
   "language": "python",
   "name": "python3"
  },
  "language_info": {
   "codemirror_mode": {
    "name": "ipython",
    "version": 3
   },
   "file_extension": ".py",
   "mimetype": "text/x-python",
   "name": "python",
   "nbconvert_exporter": "python",
   "pygments_lexer": "ipython3",
   "version": "3.7.3"
  }
 },
 "nbformat": 4,
 "nbformat_minor": 2
}
