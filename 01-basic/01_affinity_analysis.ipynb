{
 "cells": [
  {
   "cell_type": "markdown",
   "metadata": {},
   "source": [
    "Affinity analysis is a type of data mining that gives similarity between samples (objects)."
   ]
  },
  {
   "cell_type": "code",
   "execution_count": 64,
   "metadata": {
    "collapsed": false
   },
   "outputs": [
    {
     "name": "stdout",
     "output_type": "stream",
     "text": [
      "[[ 0.  0.  1.  1.  1.]\n",
      " [ 1.  1.  0.  1.  0.]\n",
      " [ 1.  0.  1.  1.  0.]\n",
      " [ 0.  0.  1.  1.  1.]\n",
      " [ 0.  1.  0.  0.  1.]]\n",
      "\n",
      "n_samples=100\n",
      "n_features=5\n"
     ]
    }
   ],
   "source": [
    "import numpy as np\n",
    "dataset_filename = \"affinity_dataset.txt\"\n",
    "X = np.loadtxt(dataset_filename)\n",
    "\n",
    "n_samples, n_features = X.shape\n",
    "print(X[:5])\n",
    "print(\"\\nn_samples={}\".format(n_samples))\n",
    "print(\"n_features={}\".format(n_features))\n",
    "features = [\"bread\", \"milk\", \"cheese\", \"apple\", \"banana\"]\n",
    "BREAD = 0\n",
    "MILK = 1\n",
    "CHEESE = 2\n",
    "APPLE = 3\n",
    "BANANA = 4"
   ]
  },
  {
   "cell_type": "code",
   "execution_count": 38,
   "metadata": {
    "collapsed": false
   },
   "outputs": [
    {
     "name": "stdout",
     "output_type": "stream",
     "text": [
      "36 people bought apples\n"
     ]
    }
   ],
   "source": [
    "# How many rows contains our premise?\n",
    "num_apple_purchases = 0\n",
    "for sample in X:\n",
    "    bought_apple = sample[APPLE] == 1\n",
    "    if bought_apple:\n",
    "        num_apple_purchases += 1\n",
    "print(\"{0} people bought apples\".format(num_apple_purchases))"
   ]
  },
  {
   "cell_type": "code",
   "execution_count": 49,
   "metadata": {
    "collapsed": false
   },
   "outputs": [
    {
     "name": "stdout",
     "output_type": "stream",
     "text": [
      "valid_rules=21\n",
      "invalid_rules=15\n"
     ]
    }
   ],
   "source": [
    "# Find out how many users that bought apples bought banana too\n",
    "valid_rule = 0\n",
    "invalid_rule = 0\n",
    "for sample in X:\n",
    "    bought_apple = sample[APPLE] == 1\n",
    "    bought_banana = sample[BANANA] == 1\n",
    "    if bought_apple:\n",
    "        if bought_banana:\n",
    "            valid_rule += 1\n",
    "        else:\n",
    "            invalid_rule += 1\n",
    "\n",
    "print(\"valid_rules={}\".format(valid_rule))\n",
    "print(\"invalid_rules={}\".format(invalid_rule))"
   ]
  },
  {
   "cell_type": "code",
   "execution_count": 58,
   "metadata": {
    "collapsed": false
   },
   "outputs": [
    {
     "name": "stdout",
     "output_type": "stream",
     "text": [
      "The support is 21 and the confidence is 0.583.\n"
     ]
    }
   ],
   "source": [
    "# Calculate Support and Confidence\n",
    "support = valid_rule\n",
    "confidence = valid_rule / num_apple_purchases\n",
    "\n",
    "print(\"The support is {} and the confidence is {:.3f}.\".format(support, confidence))"
   ]
  },
  {
   "cell_type": "code",
   "execution_count": 88,
   "metadata": {
    "collapsed": false
   },
   "outputs": [
    {
     "name": "stdout",
     "output_type": "stream",
     "text": [
      "Rule: If a person buys cheese, they will also buy apple.\n",
      "- Support: 25\n",
      "- Confidence: 0.610\n",
      "\n",
      "Rule: If a person buys cheese, they will also buy banana.\n",
      "- Support: 27\n",
      "- Confidence: 0.659\n",
      "\n",
      "Rule: If a person buys apple, they will also buy cheese.\n",
      "- Support: 25\n",
      "- Confidence: 0.694\n",
      "\n",
      "Rule: If a person buys apple, they will also buy banana.\n",
      "- Support: 21\n",
      "- Confidence: 0.583\n",
      "\n",
      "Rule: If a person buys banana, they will also buy cheese.\n",
      "- Support: 27\n",
      "- Confidence: 0.458\n",
      "\n",
      "Rule: If a person buys banana, they will also buy apple.\n",
      "- Support: 21\n",
      "- Confidence: 0.356\n",
      "\n",
      "Rule: If a person buys bread, they will also buy milk.\n",
      "- Support: 14\n",
      "- Confidence: 0.519\n",
      "\n",
      "Rule: If a person buys bread, they will also buy apple.\n",
      "- Support: 5\n",
      "- Confidence: 0.185\n",
      "\n",
      "Rule: If a person buys milk, they will also buy bread.\n",
      "- Support: 14\n",
      "- Confidence: 0.304\n",
      "\n",
      "Rule: If a person buys milk, they will also buy apple.\n",
      "- Support: 9\n",
      "- Confidence: 0.196\n",
      "\n",
      "Rule: If a person buys apple, they will also buy bread.\n",
      "- Support: 5\n",
      "- Confidence: 0.139\n",
      "\n",
      "Rule: If a person buys apple, they will also buy milk.\n",
      "- Support: 9\n",
      "- Confidence: 0.250\n",
      "\n",
      "Rule: If a person buys bread, they will also buy cheese.\n",
      "- Support: 4\n",
      "- Confidence: 0.148\n",
      "\n",
      "Rule: If a person buys cheese, they will also buy bread.\n",
      "- Support: 4\n",
      "- Confidence: 0.098\n",
      "\n",
      "Rule: If a person buys milk, they will also buy banana.\n",
      "- Support: 19\n",
      "- Confidence: 0.413\n",
      "\n",
      "Rule: If a person buys banana, they will also buy milk.\n",
      "- Support: 19\n",
      "- Confidence: 0.322\n",
      "\n",
      "Rule: If a person buys bread, they will also buy banana.\n",
      "- Support: 17\n",
      "- Confidence: 0.630\n",
      "\n",
      "Rule: If a person buys banana, they will also buy bread.\n",
      "- Support: 17\n",
      "- Confidence: 0.288\n",
      "\n",
      "Rule: If a person buys milk, they will also buy cheese.\n",
      "- Support: 7\n",
      "- Confidence: 0.152\n",
      "\n",
      "Rule: If a person buys cheese, they will also buy milk.\n",
      "- Support: 7\n",
      "- Confidence: 0.171\n",
      "\n"
     ]
    }
   ],
   "source": [
    "from collections import defaultdict\n",
    "valid_rules = defaultdict(int)\n",
    "invalid_rules = defaultdict(int)\n",
    "num_occurences = defaultdict(int)\n",
    "\n",
    "for sample in X:\n",
    "    for premise in range(n_features):\n",
    "        if sample[premise] == 0: continue\n",
    "\n",
    "        # Increment the number of occurences\n",
    "        num_occurences[premise] += 1\n",
    "        \n",
    "        for conclusion in range(n_features):\n",
    "            if premise == conclusion: \n",
    "                continue\n",
    "            if sample[conclusion] == 1:\n",
    "                valid_rules[(premise, conclusion)] += 1\n",
    "            else:\n",
    "                invalid_rules[(premise, conclusion)] += 1\n",
    "\n",
    "support = valid_rules\n",
    "confidence = defaultdict(float)\n",
    "for premise, conclusion in valid_rules.keys():\n",
    "    confidence[(premise, conclusion)] = valid_rules[(premise, conclusion)] / num_occurences[premise]\n",
    "    \n",
    "def print_report(feature_a, feature_b, support, confidence):\n",
    "    print(\"Rule: If a person buys {}, they will also buy {}.\".format(feature_a, feature_b))\n",
    "    print(\"- Support: {}\".format(support))\n",
    "    print(\"- Confidence: {:.3f}\\n\".format(confidence))\n",
    "\n",
    "for (premise, conclusion) in confidence:\n",
    "    print_report(features[premise], features[conclusion], support[(premise, conclusion)], confidence[(premise, conclusion)])"
   ]
  },
  {
   "cell_type": "code",
   "execution_count": 89,
   "metadata": {
    "collapsed": false
   },
   "outputs": [
    {
     "name": "stdout",
     "output_type": "stream",
     "text": [
      "Rule: If a person buys cheese, they will also buy banana.\n",
      "- Support: 27\n",
      "- Confidence: 0.659\n",
      "\n",
      "Rule: If a person buys banana, they will also buy cheese.\n",
      "- Support: 27\n",
      "- Confidence: 0.458\n",
      "\n",
      "Rule: If a person buys cheese, they will also buy apple.\n",
      "- Support: 25\n",
      "- Confidence: 0.610\n",
      "\n",
      "Rule: If a person buys apple, they will also buy cheese.\n",
      "- Support: 25\n",
      "- Confidence: 0.694\n",
      "\n",
      "Rule: If a person buys apple, they will also buy banana.\n",
      "- Support: 21\n",
      "- Confidence: 0.583\n",
      "\n"
     ]
    }
   ],
   "source": [
    "from operator import itemgetter\n",
    "\n",
    "sorted_support = sorted(support.items(), key=itemgetter(1), reverse=True)\n",
    "\n",
    "for item in sorted_support[:5]:\n",
    "    (premise, conclusion) = item[0]\n",
    "    print_report(features[premise], features[conclusion], support[(premise, conclusion)], confidence[(premise, conclusion)])"
   ]
  },
  {
   "cell_type": "code",
   "execution_count": 90,
   "metadata": {
    "collapsed": false
   },
   "outputs": [
    {
     "name": "stdout",
     "output_type": "stream",
     "text": [
      "Rule: If a person buys apple, they will also buy cheese.\n",
      "- Support: 25\n",
      "- Confidence: 0.694\n",
      "\n",
      "Rule: If a person buys cheese, they will also buy banana.\n",
      "- Support: 27\n",
      "- Confidence: 0.659\n",
      "\n",
      "Rule: If a person buys bread, they will also buy banana.\n",
      "- Support: 17\n",
      "- Confidence: 0.630\n",
      "\n",
      "Rule: If a person buys cheese, they will also buy apple.\n",
      "- Support: 25\n",
      "- Confidence: 0.610\n",
      "\n",
      "Rule: If a person buys apple, they will also buy banana.\n",
      "- Support: 21\n",
      "- Confidence: 0.583\n",
      "\n"
     ]
    }
   ],
   "source": [
    "from operator import itemgetter\n",
    "\n",
    "sorted_confidence = sorted(confidence.items(), key=itemgetter(1), reverse=True)\n",
    "\n",
    "for item in sorted_confidence[:5]:\n",
    "    (premise, conclusion) = item[0]\n",
    "    print_report(features[premise], features[conclusion], support[(premise, conclusion)], confidence[(premise, conclusion)])"
   ]
  }
 ],
 "metadata": {
  "kernelspec": {
   "display_name": "Python 3",
   "language": "python",
   "name": "python3"
  },
  "language_info": {
   "codemirror_mode": {
    "name": "ipython",
    "version": 3
   },
   "file_extension": ".py",
   "mimetype": "text/x-python",
   "name": "python",
   "nbconvert_exporter": "python",
   "pygments_lexer": "ipython3",
   "version": "3.6.2"
  }
 },
 "nbformat": 4,
 "nbformat_minor": 2
}
