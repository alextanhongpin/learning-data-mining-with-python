{
 "cells": [
  {
   "cell_type": "markdown",
   "metadata": {},
   "source": [
    "# Affinity Analysis\n",
    "\n",
    "What is affinity analysis? A type of data mining that gives similarity between samples (objects). This could be similarity between:\n",
    "\n",
    "- users on website, in order to provide service or targeted adverstising\n",
    "- items to sell to those users, in order to provide recommended movies or products\n",
    "- human genes, in order to find people that share the same ancestor"
   ]
  },
  {
   "cell_type": "code",
   "execution_count": 209,
   "metadata": {},
   "outputs": [],
   "source": [
    "import numpy as np\n",
    "\n",
    "from collections import namedtuple, defaultdict"
   ]
  },
  {
   "cell_type": "code",
   "execution_count": 210,
   "metadata": {},
   "outputs": [],
   "source": [
    "dataset_filepath = 'affinity_dataset.txt'"
   ]
  },
  {
   "cell_type": "code",
   "execution_count": 211,
   "metadata": {},
   "outputs": [
    {
     "data": {
      "text/plain": [
       "array([[0, 0, 1, 1, 1],\n",
       "       [1, 1, 0, 1, 0],\n",
       "       [1, 0, 1, 1, 0],\n",
       "       [0, 0, 1, 1, 1],\n",
       "       [0, 1, 0, 0, 1]])"
      ]
     },
     "execution_count": 211,
     "metadata": {},
     "output_type": "execute_result"
    }
   ],
   "source": [
    "X = np.loadtxt(dataset_filepath, dtype=np.int)\n",
    "X[:5]"
   ]
  },
  {
   "cell_type": "code",
   "execution_count": 212,
   "metadata": {},
   "outputs": [],
   "source": [
    "# ^ Each row represents a transaction.\n",
    "# Each column represents an item. They are [bread, milk, cheese, apples and bananas]."
   ]
  },
  {
   "cell_type": "code",
   "execution_count": 213,
   "metadata": {},
   "outputs": [
    {
     "data": {
      "text/plain": [
       "'This dataset has 100 samples and 5 features'"
      ]
     },
     "execution_count": 213,
     "metadata": {},
     "output_type": "execute_result"
    }
   ],
   "source": [
    "samples, features = X.shape\n",
    "f'This dataset has {samples} samples and {features} features'"
   ]
  },
  {
   "cell_type": "code",
   "execution_count": 214,
   "metadata": {},
   "outputs": [],
   "source": [
    "# Our enum.\n",
    "features = 'bread milk cheese apple banana'.split(' ')\n",
    "Item = namedtuple('Item', features)\n",
    "item = Item(*range(5))"
   ]
  },
  {
   "cell_type": "code",
   "execution_count": 215,
   "metadata": {},
   "outputs": [
    {
     "data": {
      "text/plain": [
       "'36 people bought apples'"
      ]
     },
     "execution_count": 215,
     "metadata": {},
     "output_type": "execute_result"
    }
   ],
   "source": [
    "# Find the number of users that purchased apple.\n",
    "\n",
    "num_apples_purchased = len(X[X[:, item.apple] == 1])\n",
    "f'{num_apples_purchased} people bought apples'"
   ]
  },
  {
   "cell_type": "code",
   "execution_count": 216,
   "metadata": {},
   "outputs": [
    {
     "name": "stdout",
     "output_type": "stream",
     "text": [
      "Support is 21\n",
      "Confidence is 58.33%\n"
     ]
    }
   ],
   "source": [
    "# How many of the cases that a person bought Apples involved the people purchasing banana too?\n",
    "purchased_apple = X[X[:, item.apple] == 1]\n",
    "purchased_apple_and_banana = purchased_apple[purchased_apple[:, item.banana] == 1]\n",
    "\n",
    "print(f'Support is {len(purchased_apple_and_banana)}')\n",
    "print(f'Confidence is {len(purchased_apple_and_banana) / len(purchased_apple) * 100:.2f}%')"
   ]
  },
  {
   "cell_type": "code",
   "execution_count": 217,
   "metadata": {},
   "outputs": [],
   "source": [
    "def print_rule(features, support, confidence, i, j):\n",
    "    \"\"\"\n",
    "    Parameters:\n",
    "        i: int\n",
    "            The premise\n",
    "        j: int\n",
    "            The conclusion\n",
    "    \"\"\"\n",
    "    print(f'Rule: If a person buy {features[i]} they will also buy {features[j]}')\n",
    "    print(f' - Confidence: {confidence[(i, j)]:.3f}')\n",
    "    print(f' - Support: {support[(i, j)]}')\n",
    "    print('')"
   ]
  },
  {
   "cell_type": "code",
   "execution_count": 218,
   "metadata": {},
   "outputs": [
    {
     "name": "stdout",
     "output_type": "stream",
     "text": [
      "Rule: If a person buy bread they will also buy milk\n",
      " - Confidence: 0.519\n",
      " - Support: 14\n",
      "\n",
      "Rule: If a person buy bread they will also buy cheese\n",
      " - Confidence: 0.148\n",
      " - Support: 4\n",
      "\n",
      "Rule: If a person buy bread they will also buy apple\n",
      " - Confidence: 0.185\n",
      " - Support: 5\n",
      "\n",
      "Rule: If a person buy bread they will also buy banana\n",
      " - Confidence: 0.630\n",
      " - Support: 17\n",
      "\n",
      "Rule: If a person buy milk they will also buy bread\n",
      " - Confidence: 0.304\n",
      " - Support: 14\n",
      "\n",
      "Rule: If a person buy milk they will also buy cheese\n",
      " - Confidence: 0.152\n",
      " - Support: 7\n",
      "\n",
      "Rule: If a person buy milk they will also buy apple\n",
      " - Confidence: 0.196\n",
      " - Support: 9\n",
      "\n",
      "Rule: If a person buy milk they will also buy banana\n",
      " - Confidence: 0.413\n",
      " - Support: 19\n",
      "\n",
      "Rule: If a person buy cheese they will also buy bread\n",
      " - Confidence: 0.098\n",
      " - Support: 4\n",
      "\n",
      "Rule: If a person buy cheese they will also buy milk\n",
      " - Confidence: 0.171\n",
      " - Support: 7\n",
      "\n",
      "Rule: If a person buy cheese they will also buy apple\n",
      " - Confidence: 0.610\n",
      " - Support: 25\n",
      "\n",
      "Rule: If a person buy cheese they will also buy banana\n",
      " - Confidence: 0.659\n",
      " - Support: 27\n",
      "\n",
      "Rule: If a person buy apple they will also buy bread\n",
      " - Confidence: 0.139\n",
      " - Support: 5\n",
      "\n",
      "Rule: If a person buy apple they will also buy milk\n",
      " - Confidence: 0.250\n",
      " - Support: 9\n",
      "\n",
      "Rule: If a person buy apple they will also buy cheese\n",
      " - Confidence: 0.694\n",
      " - Support: 25\n",
      "\n",
      "Rule: If a person buy apple they will also buy banana\n",
      " - Confidence: 0.583\n",
      " - Support: 21\n",
      "\n",
      "Rule: If a person buy banana they will also buy bread\n",
      " - Confidence: 0.288\n",
      " - Support: 17\n",
      "\n",
      "Rule: If a person buy banana they will also buy milk\n",
      " - Confidence: 0.322\n",
      " - Support: 19\n",
      "\n",
      "Rule: If a person buy banana they will also buy cheese\n",
      " - Confidence: 0.458\n",
      " - Support: 27\n",
      "\n",
      "Rule: If a person buy banana they will also buy apple\n",
      " - Confidence: 0.356\n",
      " - Support: 21\n",
      "\n"
     ]
    }
   ],
   "source": [
    "support = defaultdict(int)\n",
    "confidence = defaultdict(float)\n",
    "\n",
    "for i in range(len(features)):\n",
    "    a = X[X[:, i] == 1]\n",
    "    for j in range(len(features)):\n",
    "        if i == j:\n",
    "            continue\n",
    "        b = a[a[:, j] == 1]\n",
    "        support[(i, j)] = len(b)\n",
    "        confidence[(i, j)] = len(b) / len(a)\n",
    "        print_rule(features, support, confidence, i, j)\n"
   ]
  },
  {
   "cell_type": "code",
   "execution_count": 219,
   "metadata": {},
   "outputs": [
    {
     "data": {
      "text/plain": [
       "{(3, 2): 0.6944444444444444,\n",
       " (2, 4): 0.6585365853658537,\n",
       " (0, 4): 0.6296296296296297,\n",
       " (2, 3): 0.6097560975609756,\n",
       " (3, 4): 0.5833333333333334,\n",
       " (0, 1): 0.5185185185185185,\n",
       " (4, 2): 0.4576271186440678,\n",
       " (1, 4): 0.41304347826086957,\n",
       " (4, 3): 0.3559322033898305,\n",
       " (4, 1): 0.3220338983050847,\n",
       " (1, 0): 0.30434782608695654,\n",
       " (4, 0): 0.288135593220339,\n",
       " (3, 1): 0.25,\n",
       " (1, 3): 0.1956521739130435,\n",
       " (0, 3): 0.18518518518518517,\n",
       " (2, 1): 0.17073170731707318,\n",
       " (1, 2): 0.15217391304347827,\n",
       " (0, 2): 0.14814814814814814,\n",
       " (3, 0): 0.1388888888888889,\n",
       " (2, 0): 0.0975609756097561}"
      ]
     },
     "execution_count": 219,
     "metadata": {},
     "output_type": "execute_result"
    }
   ],
   "source": [
    "confidence = dict(sorted(confidence.items(), key=lambda x: x[1], reverse=True))\n",
    "confidence"
   ]
  },
  {
   "cell_type": "code",
   "execution_count": 224,
   "metadata": {},
   "outputs": [
    {
     "name": "stdout",
     "output_type": "stream",
     "text": [
      "Rule: If a person buy apple they will also buy cheese\n",
      " - Confidence: 0.694\n",
      " - Support: 25\n",
      "\n",
      "Rule: If a person buy cheese they will also buy banana\n",
      " - Confidence: 0.659\n",
      " - Support: 27\n",
      "\n",
      "Rule: If a person buy bread they will also buy banana\n",
      " - Confidence: 0.630\n",
      " - Support: 17\n",
      "\n",
      "Rule: If a person buy cheese they will also buy apple\n",
      " - Confidence: 0.610\n",
      " - Support: 25\n",
      "\n",
      "Rule: If a person buy apple they will also buy banana\n",
      " - Confidence: 0.583\n",
      " - Support: 21\n",
      "\n"
     ]
    }
   ],
   "source": [
    "top_n = 5\n",
    "for i, j in list(confidence.keys())[:top_n]:\n",
    "    print_rule(features, support, confidence, i, j)"
   ]
  },
  {
   "cell_type": "code",
   "execution_count": null,
   "metadata": {},
   "outputs": [],
   "source": []
  }
 ],
 "metadata": {
  "kernelspec": {
   "display_name": "Python 3",
   "language": "python",
   "name": "python3"
  },
  "language_info": {
   "codemirror_mode": {
    "name": "ipython",
    "version": 3
   },
   "file_extension": ".py",
   "mimetype": "text/x-python",
   "name": "python",
   "nbconvert_exporter": "python",
   "pygments_lexer": "ipython3",
   "version": "3.7.3"
  }
 },
 "nbformat": 4,
 "nbformat_minor": 2
}
