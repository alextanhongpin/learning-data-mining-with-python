{
 "cells": [
  {
   "cell_type": "markdown",
   "metadata": {},
   "source": [
    "Affinity analysis is a type of data mining that gives similarity between samples (objects)."
   ]
  },
  {
   "cell_type": "code",
   "execution_count": 34,
   "metadata": {
    "collapsed": false
   },
   "outputs": [
    {
     "name": "stdout",
     "output_type": "stream",
     "text": [
      "[[ 0.  0.  1.  1.  1.]\n",
      " [ 1.  1.  0.  1.  0.]\n",
      " [ 1.  0.  1.  1.  0.]\n",
      " [ 0.  0.  1.  1.  1.]\n",
      " [ 0.  1.  0.  0.  1.]]\n",
      "\n",
      "n_samples=100 n_features=5\n"
     ]
    }
   ],
   "source": [
    "import numpy as np\n",
    "dataset_filename = \"affinity_dataset.txt\"\n",
    "X = np.loadtxt(dataset_filename)\n",
    "\n",
    "n_samples, n_features = X.shape\n",
    "print(X[:5])\n",
    "print(\"\\nn_samples={}\".format(n_samples))\n",
    "print(\"\\nn_features={}\".format(n_features))\n",
    "# [Bread, Milk, Cheese, Apple, Banana]\n",
    "BREAD = 0\n",
    "MILK = 1\n",
    "CHEESE = 2\n",
    "APPLE = 3\n",
    "BANANA = 4"
   ]
  },
  {
   "cell_type": "code",
   "execution_count": 22,
   "metadata": {
    "collapsed": false
   },
   "outputs": [
    {
     "name": "stdout",
     "output_type": "stream",
     "text": [
      "36 people bought apples\n"
     ]
    }
   ],
   "source": [
    "# How many rows contains our premise?\n",
    "num_apple_purchases = 0\n",
    "for sample in X:\n",
    "    bought_apple = sample[APPLE] == 1\n",
    "    if bought_apple:\n",
    "        num_apple_purchases += 1\n",
    "print(\"{0} people bought apples\".format(num_apple_purchases))"
   ]
  },
  {
   "cell_type": "code",
   "execution_count": 31,
   "metadata": {
    "collapsed": false
   },
   "outputs": [
    {
     "ename": "IndentationError",
     "evalue": "unexpected indent (<ipython-input-31-0e1d32f1675a>, line 17)",
     "output_type": "error",
     "traceback": [
      "\u001b[0;36m  File \u001b[0;32m\"<ipython-input-31-0e1d32f1675a>\"\u001b[0;36m, line \u001b[0;32m17\u001b[0m\n\u001b[0;31m    valid_rules[(premise, conclusion)] += 1\u001b[0m\n\u001b[0m    ^\u001b[0m\n\u001b[0;31mIndentationError\u001b[0m\u001b[0;31m:\u001b[0m unexpected indent\n"
     ]
    }
   ],
   "source": [
    "from collections import defaultdict\n",
    "valid_rules = defaultdict(int)\n",
    "invalid_rules = defaultdict(int)\n",
    "num_occurences = defaultdict(int)\n",
    "\n",
    "for sample in X[:1]:\n",
    "    print(sample)\n",
    "    n_features = len(sample)\n",
    "    for premise in range(4):\n",
    "        if sample[premise] == 0: continue\n",
    "\n",
    "        # Increment the number of occurences\n",
    "        num_occurences[premise] += 1\n",
    "        \n",
    "        for conclusion in range(n_features):\n",
    "            if premise == conclusion: continue\n",
    "                valid_rules[(premise, conclusion)] += 1\n",
    "            else:\n",
    "                invalid_rules[(premise, conclusion)] += 1\n",
    "        print(\"premise: {}\".format(premise))\n",
    "        print(\"valid_rules: {}\".format(valid_rules))\n",
    "        print(\"invalid_rules: {}\".format(invalid_rules))"
   ]
  }
 ],
 "metadata": {
  "kernelspec": {
   "display_name": "Python 3",
   "language": "python",
   "name": "python3"
  },
  "language_info": {
   "codemirror_mode": {
    "name": "ipython",
    "version": 3
   },
   "file_extension": ".py",
   "mimetype": "text/x-python",
   "name": "python",
   "nbconvert_exporter": "python",
   "pygments_lexer": "ipython3",
   "version": "3.6.2"
  }
 },
 "nbformat": 4,
 "nbformat_minor": 2
}
