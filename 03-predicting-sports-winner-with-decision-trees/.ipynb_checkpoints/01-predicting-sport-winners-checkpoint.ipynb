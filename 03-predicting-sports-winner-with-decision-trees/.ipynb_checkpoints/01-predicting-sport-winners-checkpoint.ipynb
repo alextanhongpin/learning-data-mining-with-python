{
 "cells": [
  {
   "cell_type": "code",
   "execution_count": 68,
   "metadata": {
    "collapsed": true
   },
   "outputs": [],
   "source": [
    "import pandas as pd\n",
    "from collections import defaultdict\n",
    "\n",
    "import numpy as np\n",
    "from sklearn.tree import DecisionTreeClassifier\n",
    "from sklearn.model_selection import cross_val_score, train_test_split"
   ]
  },
  {
   "cell_type": "code",
   "execution_count": 8,
   "metadata": {
    "collapsed": false
   },
   "outputs": [],
   "source": [
    "input_file = 'leagues_nba_2014_games.txt' # Source: https://www.basketball-reference.com/leagues/NBA_2014_games.html"
   ]
  },
  {
   "cell_type": "code",
   "execution_count": 26,
   "metadata": {
    "collapsed": false
   },
   "outputs": [
    {
     "data": {
      "text/html": [
       "<div>\n",
       "<style>\n",
       "    .dataframe thead tr:only-child th {\n",
       "        text-align: right;\n",
       "    }\n",
       "\n",
       "    .dataframe thead th {\n",
       "        text-align: left;\n",
       "    }\n",
       "\n",
       "    .dataframe tbody tr th {\n",
       "        vertical-align: top;\n",
       "    }\n",
       "</style>\n",
       "<table border=\"1\" class=\"dataframe\">\n",
       "  <thead>\n",
       "    <tr style=\"text-align: right;\">\n",
       "      <th></th>\n",
       "      <th>Date</th>\n",
       "      <th>Start (ET)</th>\n",
       "      <th>Visitor Team</th>\n",
       "      <th>VisitorPts</th>\n",
       "      <th>Home Team</th>\n",
       "      <th>HomePts</th>\n",
       "      <th>Score Type</th>\n",
       "      <th>OT?</th>\n",
       "      <th>Notes</th>\n",
       "    </tr>\n",
       "  </thead>\n",
       "  <tbody>\n",
       "    <tr>\n",
       "      <th>0</th>\n",
       "      <td>2013-10-29</td>\n",
       "      <td>7:00 pm</td>\n",
       "      <td>Orlando Magic</td>\n",
       "      <td>87</td>\n",
       "      <td>Indiana Pacers</td>\n",
       "      <td>97</td>\n",
       "      <td>Box Score</td>\n",
       "      <td>NaN</td>\n",
       "      <td>NaN</td>\n",
       "    </tr>\n",
       "    <tr>\n",
       "      <th>1</th>\n",
       "      <td>2013-10-29</td>\n",
       "      <td>10:30 pm</td>\n",
       "      <td>Los Angeles Clippers</td>\n",
       "      <td>103</td>\n",
       "      <td>Los Angeles Lakers</td>\n",
       "      <td>116</td>\n",
       "      <td>Box Score</td>\n",
       "      <td>NaN</td>\n",
       "      <td>NaN</td>\n",
       "    </tr>\n",
       "    <tr>\n",
       "      <th>2</th>\n",
       "      <td>2013-10-29</td>\n",
       "      <td>8:00 pm</td>\n",
       "      <td>Chicago Bulls</td>\n",
       "      <td>95</td>\n",
       "      <td>Miami Heat</td>\n",
       "      <td>107</td>\n",
       "      <td>Box Score</td>\n",
       "      <td>NaN</td>\n",
       "      <td>NaN</td>\n",
       "    </tr>\n",
       "    <tr>\n",
       "      <th>3</th>\n",
       "      <td>2013-10-30</td>\n",
       "      <td>7:00 pm</td>\n",
       "      <td>Brooklyn Nets</td>\n",
       "      <td>94</td>\n",
       "      <td>Cleveland Cavaliers</td>\n",
       "      <td>98</td>\n",
       "      <td>Box Score</td>\n",
       "      <td>NaN</td>\n",
       "      <td>NaN</td>\n",
       "    </tr>\n",
       "    <tr>\n",
       "      <th>4</th>\n",
       "      <td>2013-10-30</td>\n",
       "      <td>8:30 pm</td>\n",
       "      <td>Atlanta Hawks</td>\n",
       "      <td>109</td>\n",
       "      <td>Dallas Mavericks</td>\n",
       "      <td>118</td>\n",
       "      <td>Box Score</td>\n",
       "      <td>NaN</td>\n",
       "      <td>NaN</td>\n",
       "    </tr>\n",
       "  </tbody>\n",
       "</table>\n",
       "</div>"
      ],
      "text/plain": [
       "        Date Start (ET)          Visitor Team  VisitorPts  \\\n",
       "0 2013-10-29    7:00 pm         Orlando Magic          87   \n",
       "1 2013-10-29   10:30 pm  Los Angeles Clippers         103   \n",
       "2 2013-10-29    8:00 pm         Chicago Bulls          95   \n",
       "3 2013-10-30    7:00 pm         Brooklyn Nets          94   \n",
       "4 2013-10-30    8:30 pm         Atlanta Hawks         109   \n",
       "\n",
       "             Home Team  HomePts Score Type  OT? Notes  \n",
       "0       Indiana Pacers       97  Box Score  NaN   NaN  \n",
       "1   Los Angeles Lakers      116  Box Score  NaN   NaN  \n",
       "2           Miami Heat      107  Box Score  NaN   NaN  \n",
       "3  Cleveland Cavaliers       98  Box Score  NaN   NaN  \n",
       "4     Dallas Mavericks      118  Box Score  NaN   NaN  "
      ]
     },
     "execution_count": 26,
     "metadata": {},
     "output_type": "execute_result"
    }
   ],
   "source": [
    "# Load data\n",
    "df = pd.read_csv(input_file, parse_dates = ['Date'])\n",
    "\n",
    "# Rename existing columns\n",
    "df.rename(columns = {'Visitor/Neutral': 'Visitor Team',\n",
    "                     'Home/Neutral': 'Home Team',\n",
    "                     'Unnamed: 6': 'Score Type',\n",
    "                     'Unnamed: 7': 'OT?',\n",
    "                     'PTS': 'VisitorPts',\n",
    "                     'PTS.1': 'HomePts'}, inplace = True)\n",
    "df.head()"
   ]
  },
  {
   "cell_type": "code",
   "execution_count": 28,
   "metadata": {
    "collapsed": false
   },
   "outputs": [
    {
     "data": {
      "text/html": [
       "<div>\n",
       "<style>\n",
       "    .dataframe thead tr:only-child th {\n",
       "        text-align: right;\n",
       "    }\n",
       "\n",
       "    .dataframe thead th {\n",
       "        text-align: left;\n",
       "    }\n",
       "\n",
       "    .dataframe tbody tr th {\n",
       "        vertical-align: top;\n",
       "    }\n",
       "</style>\n",
       "<table border=\"1\" class=\"dataframe\">\n",
       "  <thead>\n",
       "    <tr style=\"text-align: right;\">\n",
       "      <th></th>\n",
       "      <th>VisitorPts</th>\n",
       "      <th>HomePts</th>\n",
       "    </tr>\n",
       "  </thead>\n",
       "  <tbody>\n",
       "    <tr>\n",
       "      <th>count</th>\n",
       "      <td>1319.000000</td>\n",
       "      <td>1319.000000</td>\n",
       "    </tr>\n",
       "    <tr>\n",
       "      <th>mean</th>\n",
       "      <td>99.603487</td>\n",
       "      <td>102.216831</td>\n",
       "    </tr>\n",
       "    <tr>\n",
       "      <th>std</th>\n",
       "      <td>11.684056</td>\n",
       "      <td>11.888199</td>\n",
       "    </tr>\n",
       "    <tr>\n",
       "      <th>min</th>\n",
       "      <td>66.000000</td>\n",
       "      <td>63.000000</td>\n",
       "    </tr>\n",
       "    <tr>\n",
       "      <th>25%</th>\n",
       "      <td>91.000000</td>\n",
       "      <td>94.000000</td>\n",
       "    </tr>\n",
       "    <tr>\n",
       "      <th>50%</th>\n",
       "      <td>99.000000</td>\n",
       "      <td>102.000000</td>\n",
       "    </tr>\n",
       "    <tr>\n",
       "      <th>75%</th>\n",
       "      <td>107.000000</td>\n",
       "      <td>110.000000</td>\n",
       "    </tr>\n",
       "    <tr>\n",
       "      <th>max</th>\n",
       "      <td>145.000000</td>\n",
       "      <td>143.000000</td>\n",
       "    </tr>\n",
       "  </tbody>\n",
       "</table>\n",
       "</div>"
      ],
      "text/plain": [
       "        VisitorPts      HomePts\n",
       "count  1319.000000  1319.000000\n",
       "mean     99.603487   102.216831\n",
       "std      11.684056    11.888199\n",
       "min      66.000000    63.000000\n",
       "25%      91.000000    94.000000\n",
       "50%      99.000000   102.000000\n",
       "75%     107.000000   110.000000\n",
       "max     145.000000   143.000000"
      ]
     },
     "execution_count": 28,
     "metadata": {},
     "output_type": "execute_result"
    }
   ],
   "source": [
    "df.describe()"
   ]
  },
  {
   "cell_type": "code",
   "execution_count": 33,
   "metadata": {
    "collapsed": false
   },
   "outputs": [
    {
     "data": {
      "text/html": [
       "<div>\n",
       "<style>\n",
       "    .dataframe thead tr:only-child th {\n",
       "        text-align: right;\n",
       "    }\n",
       "\n",
       "    .dataframe thead th {\n",
       "        text-align: left;\n",
       "    }\n",
       "\n",
       "    .dataframe tbody tr th {\n",
       "        vertical-align: top;\n",
       "    }\n",
       "</style>\n",
       "<table border=\"1\" class=\"dataframe\">\n",
       "  <thead>\n",
       "    <tr style=\"text-align: right;\">\n",
       "      <th></th>\n",
       "      <th>Date</th>\n",
       "      <th>Start (ET)</th>\n",
       "      <th>Visitor Team</th>\n",
       "      <th>VisitorPts</th>\n",
       "      <th>Home Team</th>\n",
       "      <th>HomePts</th>\n",
       "      <th>Score Type</th>\n",
       "      <th>OT?</th>\n",
       "      <th>Notes</th>\n",
       "      <th>HomeWin</th>\n",
       "    </tr>\n",
       "  </thead>\n",
       "  <tbody>\n",
       "    <tr>\n",
       "      <th>0</th>\n",
       "      <td>2013-10-29</td>\n",
       "      <td>7:00 pm</td>\n",
       "      <td>Orlando Magic</td>\n",
       "      <td>87</td>\n",
       "      <td>Indiana Pacers</td>\n",
       "      <td>97</td>\n",
       "      <td>Box Score</td>\n",
       "      <td>NaN</td>\n",
       "      <td>NaN</td>\n",
       "      <td>True</td>\n",
       "    </tr>\n",
       "    <tr>\n",
       "      <th>1</th>\n",
       "      <td>2013-10-29</td>\n",
       "      <td>10:30 pm</td>\n",
       "      <td>Los Angeles Clippers</td>\n",
       "      <td>103</td>\n",
       "      <td>Los Angeles Lakers</td>\n",
       "      <td>116</td>\n",
       "      <td>Box Score</td>\n",
       "      <td>NaN</td>\n",
       "      <td>NaN</td>\n",
       "      <td>True</td>\n",
       "    </tr>\n",
       "    <tr>\n",
       "      <th>2</th>\n",
       "      <td>2013-10-29</td>\n",
       "      <td>8:00 pm</td>\n",
       "      <td>Chicago Bulls</td>\n",
       "      <td>95</td>\n",
       "      <td>Miami Heat</td>\n",
       "      <td>107</td>\n",
       "      <td>Box Score</td>\n",
       "      <td>NaN</td>\n",
       "      <td>NaN</td>\n",
       "      <td>True</td>\n",
       "    </tr>\n",
       "    <tr>\n",
       "      <th>3</th>\n",
       "      <td>2013-10-30</td>\n",
       "      <td>7:00 pm</td>\n",
       "      <td>Brooklyn Nets</td>\n",
       "      <td>94</td>\n",
       "      <td>Cleveland Cavaliers</td>\n",
       "      <td>98</td>\n",
       "      <td>Box Score</td>\n",
       "      <td>NaN</td>\n",
       "      <td>NaN</td>\n",
       "      <td>True</td>\n",
       "    </tr>\n",
       "    <tr>\n",
       "      <th>4</th>\n",
       "      <td>2013-10-30</td>\n",
       "      <td>8:30 pm</td>\n",
       "      <td>Atlanta Hawks</td>\n",
       "      <td>109</td>\n",
       "      <td>Dallas Mavericks</td>\n",
       "      <td>118</td>\n",
       "      <td>Box Score</td>\n",
       "      <td>NaN</td>\n",
       "      <td>NaN</td>\n",
       "      <td>True</td>\n",
       "    </tr>\n",
       "  </tbody>\n",
       "</table>\n",
       "</div>"
      ],
      "text/plain": [
       "        Date Start (ET)          Visitor Team  VisitorPts  \\\n",
       "0 2013-10-29    7:00 pm         Orlando Magic          87   \n",
       "1 2013-10-29   10:30 pm  Los Angeles Clippers         103   \n",
       "2 2013-10-29    8:00 pm         Chicago Bulls          95   \n",
       "3 2013-10-30    7:00 pm         Brooklyn Nets          94   \n",
       "4 2013-10-30    8:30 pm         Atlanta Hawks         109   \n",
       "\n",
       "             Home Team  HomePts Score Type  OT? Notes  HomeWin  \n",
       "0       Indiana Pacers       97  Box Score  NaN   NaN     True  \n",
       "1   Los Angeles Lakers      116  Box Score  NaN   NaN     True  \n",
       "2           Miami Heat      107  Box Score  NaN   NaN     True  \n",
       "3  Cleveland Cavaliers       98  Box Score  NaN   NaN     True  \n",
       "4     Dallas Mavericks      118  Box Score  NaN   NaN     True  "
      ]
     },
     "execution_count": 33,
     "metadata": {},
     "output_type": "execute_result"
    }
   ],
   "source": [
    "# Create a new column `HomeWin` which is boolean that indicates if the Home is the winning\n",
    "# team or Visitor\n",
    "df['HomeWin'] = df['HomePts'] > df['VisitorPts']\n",
    "df.head()"
   ]
  },
  {
   "cell_type": "code",
   "execution_count": 54,
   "metadata": {
    "collapsed": false
   },
   "outputs": [
    {
     "name": "stdout",
     "output_type": "stream",
     "text": [
      "         Date Start (ET)            Visitor Team  VisitorPts  \\\n",
      "20 2013-11-01    7:30 pm         Milwaukee Bucks         105   \n",
      "21 2013-11-01    8:00 pm              Miami Heat         100   \n",
      "22 2013-11-01    7:00 pm     Cleveland Cavaliers          84   \n",
      "23 2013-11-01    9:00 pm  Portland Trail Blazers         113   \n",
      "24 2013-11-01    8:00 pm        Dallas Mavericks         105   \n",
      "25 2013-11-01   10:30 pm       San Antonio Spurs          91   \n",
      "\n",
      "             Home Team  HomePts Score Type  OT? Notes  HomeWin  HomeLastWin  \\\n",
      "20      Boston Celtics       98  Box Score  NaN   NaN    False        False   \n",
      "21       Brooklyn Nets      101  Box Score  NaN   NaN     True        False   \n",
      "22   Charlotte Bobcats       90  Box Score  NaN   NaN     True        False   \n",
      "23      Denver Nuggets       98  Box Score  NaN   NaN    False        False   \n",
      "24     Houston Rockets      113  Box Score  NaN   NaN     True        False   \n",
      "25  Los Angeles Lakers       85  Box Score  NaN   NaN    False        False   \n",
      "\n",
      "    VisitorLastWin  \n",
      "20           False  \n",
      "21           False  \n",
      "22           False  \n",
      "23           False  \n",
      "24           False  \n",
      "25           False  \n"
     ]
    }
   ],
   "source": [
    "# Store the team's last result\n",
    "won_last = defaultdict(int)\n",
    "\n",
    "df['HomeLastWin'] = False\n",
    "df['VisitorLastWin'] = False\n",
    "for i, row in df.iterrows():\n",
    "    home_team = row['Home Team']\n",
    "    visitor_team = row['Visitor Team']\n",
    "\n",
    "    row['HomeLastWin'] = won_last[home_team]\n",
    "    row['VisitorLastWin'] = won_last[visitor_team]    \n",
    "\n",
    "    won_last[home_team] = row['HomeWin']\n",
    "    won_last[visitor_team] = not row['HomeWin']\n",
    "\n",
    "# Print the data for the row 20 to 25\n",
    "print(df.loc[20:25,])"
   ]
  },
  {
   "cell_type": "code",
   "execution_count": 57,
   "metadata": {
    "collapsed": true
   },
   "outputs": [],
   "source": [
    "# Create a new classifier\n",
    "clf = DecisionTreeClassifier(random_state=4)"
   ]
  },
  {
   "cell_type": "code",
   "execution_count": 65,
   "metadata": {
    "collapsed": false
   },
   "outputs": [],
   "source": [
    "X_previous_wins = df[['HomeLastWin', 'VisitorLastWin']].values\n",
    "y_true = df['HomeWin'].values"
   ]
  },
  {
   "cell_type": "code",
   "execution_count": 70,
   "metadata": {
    "collapsed": false
   },
   "outputs": [
    {
     "name": "stdout",
     "output_type": "stream",
     "text": [
      "Accuracy: 57.9%\n"
     ]
    }
   ],
   "source": [
    "scores = cross_val_score(clf, X_previous_wins, y_true, scoring='accuracy')\n",
    "print('Accuracy: {:.1f}%'.format(np.mean(scores) * 100))"
   ]
  }
 ],
 "metadata": {
  "kernelspec": {
   "display_name": "Python 3",
   "language": "python",
   "name": "python3"
  },
  "language_info": {
   "codemirror_mode": {
    "name": "ipython",
    "version": 3
   },
   "file_extension": ".py",
   "mimetype": "text/x-python",
   "name": "python",
   "nbconvert_exporter": "python",
   "pygments_lexer": "ipython3",
   "version": "3.6.2"
  }
 },
 "nbformat": 4,
 "nbformat_minor": 2
}
