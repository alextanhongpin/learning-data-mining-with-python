{
 "cells": [
  {
   "cell_type": "code",
   "execution_count": 59,
   "metadata": {
    "collapsed": true
   },
   "outputs": [],
   "source": [
    "import pandas as pd\n",
    "from collections import defaultdict\n",
    "\n",
    "import numpy as np\n",
    "from sklearn.tree import DecisionTreeClassifier\n",
    "from sklearn.model_selection import cross_val_score, train_test_split, GridSearchCV\n",
    "from sklearn.preprocessing import LabelEncoder, OneHotEncoder\n",
    "from sklearn.ensemble import RandomForestClassifier"
   ]
  },
  {
   "cell_type": "code",
   "execution_count": 2,
   "metadata": {},
   "outputs": [],
   "source": [
    "input_file = 'leagues_nba_2014_games.txt' # Source: https://www.basketball-reference.com/leagues/NBA_2014_games.html"
   ]
  },
  {
   "cell_type": "code",
   "execution_count": 3,
   "metadata": {},
   "outputs": [
    {
     "data": {
      "text/html": [
       "<div>\n",
       "<style>\n",
       "    .dataframe thead tr:only-child th {\n",
       "        text-align: right;\n",
       "    }\n",
       "\n",
       "    .dataframe thead th {\n",
       "        text-align: left;\n",
       "    }\n",
       "\n",
       "    .dataframe tbody tr th {\n",
       "        vertical-align: top;\n",
       "    }\n",
       "</style>\n",
       "<table border=\"1\" class=\"dataframe\">\n",
       "  <thead>\n",
       "    <tr style=\"text-align: right;\">\n",
       "      <th></th>\n",
       "      <th>Date</th>\n",
       "      <th>Start (ET)</th>\n",
       "      <th>Visitor Team</th>\n",
       "      <th>VisitorPts</th>\n",
       "      <th>Home Team</th>\n",
       "      <th>HomePts</th>\n",
       "      <th>Score Type</th>\n",
       "      <th>OT?</th>\n",
       "      <th>Notes</th>\n",
       "    </tr>\n",
       "  </thead>\n",
       "  <tbody>\n",
       "    <tr>\n",
       "      <th>0</th>\n",
       "      <td>2013-10-29</td>\n",
       "      <td>7:00 pm</td>\n",
       "      <td>Orlando Magic</td>\n",
       "      <td>87</td>\n",
       "      <td>Indiana Pacers</td>\n",
       "      <td>97</td>\n",
       "      <td>Box Score</td>\n",
       "      <td>NaN</td>\n",
       "      <td>NaN</td>\n",
       "    </tr>\n",
       "    <tr>\n",
       "      <th>1</th>\n",
       "      <td>2013-10-29</td>\n",
       "      <td>10:30 pm</td>\n",
       "      <td>Los Angeles Clippers</td>\n",
       "      <td>103</td>\n",
       "      <td>Los Angeles Lakers</td>\n",
       "      <td>116</td>\n",
       "      <td>Box Score</td>\n",
       "      <td>NaN</td>\n",
       "      <td>NaN</td>\n",
       "    </tr>\n",
       "    <tr>\n",
       "      <th>2</th>\n",
       "      <td>2013-10-29</td>\n",
       "      <td>8:00 pm</td>\n",
       "      <td>Chicago Bulls</td>\n",
       "      <td>95</td>\n",
       "      <td>Miami Heat</td>\n",
       "      <td>107</td>\n",
       "      <td>Box Score</td>\n",
       "      <td>NaN</td>\n",
       "      <td>NaN</td>\n",
       "    </tr>\n",
       "    <tr>\n",
       "      <th>3</th>\n",
       "      <td>2013-10-30</td>\n",
       "      <td>7:00 pm</td>\n",
       "      <td>Brooklyn Nets</td>\n",
       "      <td>94</td>\n",
       "      <td>Cleveland Cavaliers</td>\n",
       "      <td>98</td>\n",
       "      <td>Box Score</td>\n",
       "      <td>NaN</td>\n",
       "      <td>NaN</td>\n",
       "    </tr>\n",
       "    <tr>\n",
       "      <th>4</th>\n",
       "      <td>2013-10-30</td>\n",
       "      <td>8:30 pm</td>\n",
       "      <td>Atlanta Hawks</td>\n",
       "      <td>109</td>\n",
       "      <td>Dallas Mavericks</td>\n",
       "      <td>118</td>\n",
       "      <td>Box Score</td>\n",
       "      <td>NaN</td>\n",
       "      <td>NaN</td>\n",
       "    </tr>\n",
       "  </tbody>\n",
       "</table>\n",
       "</div>"
      ],
      "text/plain": [
       "        Date Start (ET)          Visitor Team  VisitorPts  \\\n",
       "0 2013-10-29    7:00 pm         Orlando Magic          87   \n",
       "1 2013-10-29   10:30 pm  Los Angeles Clippers         103   \n",
       "2 2013-10-29    8:00 pm         Chicago Bulls          95   \n",
       "3 2013-10-30    7:00 pm         Brooklyn Nets          94   \n",
       "4 2013-10-30    8:30 pm         Atlanta Hawks         109   \n",
       "\n",
       "             Home Team  HomePts Score Type  OT? Notes  \n",
       "0       Indiana Pacers       97  Box Score  NaN   NaN  \n",
       "1   Los Angeles Lakers      116  Box Score  NaN   NaN  \n",
       "2           Miami Heat      107  Box Score  NaN   NaN  \n",
       "3  Cleveland Cavaliers       98  Box Score  NaN   NaN  \n",
       "4     Dallas Mavericks      118  Box Score  NaN   NaN  "
      ]
     },
     "execution_count": 3,
     "metadata": {},
     "output_type": "execute_result"
    }
   ],
   "source": [
    "# Load data\n",
    "df = pd.read_csv(input_file, parse_dates = ['Date'])\n",
    "\n",
    "# Rename existing columns\n",
    "df.rename(columns = {'Visitor/Neutral': 'Visitor Team',\n",
    "                     'Home/Neutral': 'Home Team',\n",
    "                     'Unnamed: 6': 'Score Type',\n",
    "                     'Unnamed: 7': 'OT?',\n",
    "                     'PTS': 'VisitorPts',\n",
    "                     'PTS.1': 'HomePts'}, inplace = True)\n",
    "df.head()"
   ]
  },
  {
   "cell_type": "code",
   "execution_count": 4,
   "metadata": {},
   "outputs": [
    {
     "data": {
      "text/html": [
       "<div>\n",
       "<style>\n",
       "    .dataframe thead tr:only-child th {\n",
       "        text-align: right;\n",
       "    }\n",
       "\n",
       "    .dataframe thead th {\n",
       "        text-align: left;\n",
       "    }\n",
       "\n",
       "    .dataframe tbody tr th {\n",
       "        vertical-align: top;\n",
       "    }\n",
       "</style>\n",
       "<table border=\"1\" class=\"dataframe\">\n",
       "  <thead>\n",
       "    <tr style=\"text-align: right;\">\n",
       "      <th></th>\n",
       "      <th>VisitorPts</th>\n",
       "      <th>HomePts</th>\n",
       "    </tr>\n",
       "  </thead>\n",
       "  <tbody>\n",
       "    <tr>\n",
       "      <th>count</th>\n",
       "      <td>1319.000000</td>\n",
       "      <td>1319.000000</td>\n",
       "    </tr>\n",
       "    <tr>\n",
       "      <th>mean</th>\n",
       "      <td>99.603487</td>\n",
       "      <td>102.216831</td>\n",
       "    </tr>\n",
       "    <tr>\n",
       "      <th>std</th>\n",
       "      <td>11.684056</td>\n",
       "      <td>11.888199</td>\n",
       "    </tr>\n",
       "    <tr>\n",
       "      <th>min</th>\n",
       "      <td>66.000000</td>\n",
       "      <td>63.000000</td>\n",
       "    </tr>\n",
       "    <tr>\n",
       "      <th>25%</th>\n",
       "      <td>91.000000</td>\n",
       "      <td>94.000000</td>\n",
       "    </tr>\n",
       "    <tr>\n",
       "      <th>50%</th>\n",
       "      <td>99.000000</td>\n",
       "      <td>102.000000</td>\n",
       "    </tr>\n",
       "    <tr>\n",
       "      <th>75%</th>\n",
       "      <td>107.000000</td>\n",
       "      <td>110.000000</td>\n",
       "    </tr>\n",
       "    <tr>\n",
       "      <th>max</th>\n",
       "      <td>145.000000</td>\n",
       "      <td>143.000000</td>\n",
       "    </tr>\n",
       "  </tbody>\n",
       "</table>\n",
       "</div>"
      ],
      "text/plain": [
       "        VisitorPts      HomePts\n",
       "count  1319.000000  1319.000000\n",
       "mean     99.603487   102.216831\n",
       "std      11.684056    11.888199\n",
       "min      66.000000    63.000000\n",
       "25%      91.000000    94.000000\n",
       "50%      99.000000   102.000000\n",
       "75%     107.000000   110.000000\n",
       "max     145.000000   143.000000"
      ]
     },
     "execution_count": 4,
     "metadata": {},
     "output_type": "execute_result"
    }
   ],
   "source": [
    "df.describe()"
   ]
  },
  {
   "cell_type": "code",
   "execution_count": 5,
   "metadata": {},
   "outputs": [
    {
     "data": {
      "text/html": [
       "<div>\n",
       "<style>\n",
       "    .dataframe thead tr:only-child th {\n",
       "        text-align: right;\n",
       "    }\n",
       "\n",
       "    .dataframe thead th {\n",
       "        text-align: left;\n",
       "    }\n",
       "\n",
       "    .dataframe tbody tr th {\n",
       "        vertical-align: top;\n",
       "    }\n",
       "</style>\n",
       "<table border=\"1\" class=\"dataframe\">\n",
       "  <thead>\n",
       "    <tr style=\"text-align: right;\">\n",
       "      <th></th>\n",
       "      <th>Date</th>\n",
       "      <th>Start (ET)</th>\n",
       "      <th>Visitor Team</th>\n",
       "      <th>VisitorPts</th>\n",
       "      <th>Home Team</th>\n",
       "      <th>HomePts</th>\n",
       "      <th>Score Type</th>\n",
       "      <th>OT?</th>\n",
       "      <th>Notes</th>\n",
       "      <th>HomeWin</th>\n",
       "    </tr>\n",
       "  </thead>\n",
       "  <tbody>\n",
       "    <tr>\n",
       "      <th>0</th>\n",
       "      <td>2013-10-29</td>\n",
       "      <td>7:00 pm</td>\n",
       "      <td>Orlando Magic</td>\n",
       "      <td>87</td>\n",
       "      <td>Indiana Pacers</td>\n",
       "      <td>97</td>\n",
       "      <td>Box Score</td>\n",
       "      <td>NaN</td>\n",
       "      <td>NaN</td>\n",
       "      <td>True</td>\n",
       "    </tr>\n",
       "    <tr>\n",
       "      <th>1</th>\n",
       "      <td>2013-10-29</td>\n",
       "      <td>10:30 pm</td>\n",
       "      <td>Los Angeles Clippers</td>\n",
       "      <td>103</td>\n",
       "      <td>Los Angeles Lakers</td>\n",
       "      <td>116</td>\n",
       "      <td>Box Score</td>\n",
       "      <td>NaN</td>\n",
       "      <td>NaN</td>\n",
       "      <td>True</td>\n",
       "    </tr>\n",
       "    <tr>\n",
       "      <th>2</th>\n",
       "      <td>2013-10-29</td>\n",
       "      <td>8:00 pm</td>\n",
       "      <td>Chicago Bulls</td>\n",
       "      <td>95</td>\n",
       "      <td>Miami Heat</td>\n",
       "      <td>107</td>\n",
       "      <td>Box Score</td>\n",
       "      <td>NaN</td>\n",
       "      <td>NaN</td>\n",
       "      <td>True</td>\n",
       "    </tr>\n",
       "    <tr>\n",
       "      <th>3</th>\n",
       "      <td>2013-10-30</td>\n",
       "      <td>7:00 pm</td>\n",
       "      <td>Brooklyn Nets</td>\n",
       "      <td>94</td>\n",
       "      <td>Cleveland Cavaliers</td>\n",
       "      <td>98</td>\n",
       "      <td>Box Score</td>\n",
       "      <td>NaN</td>\n",
       "      <td>NaN</td>\n",
       "      <td>True</td>\n",
       "    </tr>\n",
       "    <tr>\n",
       "      <th>4</th>\n",
       "      <td>2013-10-30</td>\n",
       "      <td>8:30 pm</td>\n",
       "      <td>Atlanta Hawks</td>\n",
       "      <td>109</td>\n",
       "      <td>Dallas Mavericks</td>\n",
       "      <td>118</td>\n",
       "      <td>Box Score</td>\n",
       "      <td>NaN</td>\n",
       "      <td>NaN</td>\n",
       "      <td>True</td>\n",
       "    </tr>\n",
       "  </tbody>\n",
       "</table>\n",
       "</div>"
      ],
      "text/plain": [
       "        Date Start (ET)          Visitor Team  VisitorPts  \\\n",
       "0 2013-10-29    7:00 pm         Orlando Magic          87   \n",
       "1 2013-10-29   10:30 pm  Los Angeles Clippers         103   \n",
       "2 2013-10-29    8:00 pm         Chicago Bulls          95   \n",
       "3 2013-10-30    7:00 pm         Brooklyn Nets          94   \n",
       "4 2013-10-30    8:30 pm         Atlanta Hawks         109   \n",
       "\n",
       "             Home Team  HomePts Score Type  OT? Notes  HomeWin  \n",
       "0       Indiana Pacers       97  Box Score  NaN   NaN     True  \n",
       "1   Los Angeles Lakers      116  Box Score  NaN   NaN     True  \n",
       "2           Miami Heat      107  Box Score  NaN   NaN     True  \n",
       "3  Cleveland Cavaliers       98  Box Score  NaN   NaN     True  \n",
       "4     Dallas Mavericks      118  Box Score  NaN   NaN     True  "
      ]
     },
     "execution_count": 5,
     "metadata": {},
     "output_type": "execute_result"
    }
   ],
   "source": [
    "# Create a new column `HomeWin` which is boolean that indicates if the Home is the winning\n",
    "# team or Visitor\n",
    "df['HomeWin'] = df['HomePts'] > df['VisitorPts']\n",
    "df.head()"
   ]
  },
  {
   "cell_type": "code",
   "execution_count": 14,
   "metadata": {},
   "outputs": [
    {
     "name": "stdout",
     "output_type": "stream",
     "text": [
      "         Date Start (ET)            Visitor Team  VisitorPts  \\\n",
      "20 2013-11-01    7:30 pm         Milwaukee Bucks         105   \n",
      "21 2013-11-01    8:00 pm              Miami Heat         100   \n",
      "22 2013-11-01    7:00 pm     Cleveland Cavaliers          84   \n",
      "23 2013-11-01    9:00 pm  Portland Trail Blazers         113   \n",
      "24 2013-11-01    8:00 pm        Dallas Mavericks         105   \n",
      "25 2013-11-01   10:30 pm       San Antonio Spurs          91   \n",
      "\n",
      "             Home Team  HomePts Score Type  OT? Notes  HomeWin  HomeLastWin  \\\n",
      "20      Boston Celtics       98  Box Score  NaN   NaN    False        False   \n",
      "21       Brooklyn Nets      101  Box Score  NaN   NaN     True        False   \n",
      "22   Charlotte Bobcats       90  Box Score  NaN   NaN     True        False   \n",
      "23      Denver Nuggets       98  Box Score  NaN   NaN    False        False   \n",
      "24     Houston Rockets      113  Box Score  NaN   NaN     True        False   \n",
      "25  Los Angeles Lakers       85  Box Score  NaN   NaN    False        False   \n",
      "\n",
      "    VisitorLastWin  HomeTeamRanksHigher  \n",
      "20           False                    0  \n",
      "21           False                    1  \n",
      "22           False                    1  \n",
      "23           False                    0  \n",
      "24           False                    0  \n",
      "25           False                    1  \n"
     ]
    }
   ],
   "source": [
    "# Store the team's last result\n",
    "won_last = defaultdict(int)\n",
    "\n",
    "df['HomeLastWin'] = False\n",
    "df['VisitorLastWin'] = False\n",
    "for i, row in df.iterrows():\n",
    "    home_team = row['Home Team']\n",
    "    visitor_team = row['Visitor Team']\n",
    "\n",
    "    row['HomeLastWin'] = won_last[home_team]\n",
    "    row['VisitorLastWin'] = won_last[visitor_team]\n",
    "    \n",
    "    df.loc[index, 'HomeLastWin'] = won_last[home_team]\n",
    "    df.loc[index, 'VisitorLastWin'] = won_last[visitor_team]\n",
    "    \n",
    "\n",
    "    won_last[home_team] = row['HomeWin']\n",
    "    won_last[visitor_team] = not row['HomeWin']\n",
    "\n",
    "# Print the data for the row 20 to 25\n",
    "print(df.loc[20:25,])"
   ]
  },
  {
   "cell_type": "code",
   "execution_count": 15,
   "metadata": {
    "collapsed": true
   },
   "outputs": [],
   "source": [
    "# Create a new classifier\n",
    "clf = DecisionTreeClassifier(random_state=4)"
   ]
  },
  {
   "cell_type": "code",
   "execution_count": 16,
   "metadata": {},
   "outputs": [],
   "source": [
    "X_previous_wins = df[['HomeLastWin', 'VisitorLastWin']].values\n",
    "y_true = df['HomeWin'].values"
   ]
  },
  {
   "cell_type": "code",
   "execution_count": 17,
   "metadata": {},
   "outputs": [
    {
     "name": "stdout",
     "output_type": "stream",
     "text": [
      "Accuracy: 57.9%\n"
     ]
    }
   ],
   "source": [
    "scores = cross_val_score(clf, X_previous_wins, y_true, scoring='accuracy')\n",
    "print('Accuracy: {:.1f}%'.format(np.mean(scores) * 100))"
   ]
  },
  {
   "cell_type": "code",
   "execution_count": 18,
   "metadata": {
    "collapsed": true
   },
   "outputs": [],
   "source": [
    "# Load the standings data\n",
    "standings_filename = 'leagues_nba_2013_standings.txt'"
   ]
  },
  {
   "cell_type": "code",
   "execution_count": 19,
   "metadata": {},
   "outputs": [
    {
     "data": {
      "text/html": [
       "<div>\n",
       "<style>\n",
       "    .dataframe thead tr:only-child th {\n",
       "        text-align: right;\n",
       "    }\n",
       "\n",
       "    .dataframe thead th {\n",
       "        text-align: left;\n",
       "    }\n",
       "\n",
       "    .dataframe tbody tr th {\n",
       "        vertical-align: top;\n",
       "    }\n",
       "</style>\n",
       "<table border=\"1\" class=\"dataframe\">\n",
       "  <thead>\n",
       "    <tr style=\"text-align: right;\">\n",
       "      <th></th>\n",
       "      <th>Rk</th>\n",
       "      <th>Team</th>\n",
       "      <th>Overall</th>\n",
       "      <th>Home</th>\n",
       "      <th>Road</th>\n",
       "      <th>E</th>\n",
       "      <th>W</th>\n",
       "      <th>A</th>\n",
       "      <th>C</th>\n",
       "      <th>SE</th>\n",
       "      <th>...</th>\n",
       "      <th>Post</th>\n",
       "      <th>≤3</th>\n",
       "      <th>≥10</th>\n",
       "      <th>Oct</th>\n",
       "      <th>Nov</th>\n",
       "      <th>Dec</th>\n",
       "      <th>Jan</th>\n",
       "      <th>Feb</th>\n",
       "      <th>Mar</th>\n",
       "      <th>Apr</th>\n",
       "    </tr>\n",
       "  </thead>\n",
       "  <tbody>\n",
       "    <tr>\n",
       "      <th>0</th>\n",
       "      <td>1</td>\n",
       "      <td>Miami Heat</td>\n",
       "      <td>66-16</td>\n",
       "      <td>37-4</td>\n",
       "      <td>29-12</td>\n",
       "      <td>41-11</td>\n",
       "      <td>25-5</td>\n",
       "      <td>14-4</td>\n",
       "      <td>12-6</td>\n",
       "      <td>15-1</td>\n",
       "      <td>...</td>\n",
       "      <td>30-2</td>\n",
       "      <td>9-3</td>\n",
       "      <td>39-8</td>\n",
       "      <td>1-0</td>\n",
       "      <td>10-3</td>\n",
       "      <td>10-5</td>\n",
       "      <td>8-5</td>\n",
       "      <td>12-1</td>\n",
       "      <td>17-1</td>\n",
       "      <td>8-1</td>\n",
       "    </tr>\n",
       "    <tr>\n",
       "      <th>1</th>\n",
       "      <td>2</td>\n",
       "      <td>Oklahoma City Thunder</td>\n",
       "      <td>60-22</td>\n",
       "      <td>34-7</td>\n",
       "      <td>26-15</td>\n",
       "      <td>21-9</td>\n",
       "      <td>39-13</td>\n",
       "      <td>7-3</td>\n",
       "      <td>8-2</td>\n",
       "      <td>6-4</td>\n",
       "      <td>...</td>\n",
       "      <td>21-8</td>\n",
       "      <td>3-6</td>\n",
       "      <td>44-6</td>\n",
       "      <td>NaN</td>\n",
       "      <td>13-4</td>\n",
       "      <td>11-2</td>\n",
       "      <td>11-5</td>\n",
       "      <td>7-4</td>\n",
       "      <td>12-5</td>\n",
       "      <td>6-2</td>\n",
       "    </tr>\n",
       "    <tr>\n",
       "      <th>2</th>\n",
       "      <td>3</td>\n",
       "      <td>San Antonio Spurs</td>\n",
       "      <td>58-24</td>\n",
       "      <td>35-6</td>\n",
       "      <td>23-18</td>\n",
       "      <td>25-5</td>\n",
       "      <td>33-19</td>\n",
       "      <td>8-2</td>\n",
       "      <td>9-1</td>\n",
       "      <td>8-2</td>\n",
       "      <td>...</td>\n",
       "      <td>16-12</td>\n",
       "      <td>9-5</td>\n",
       "      <td>31-10</td>\n",
       "      <td>1-0</td>\n",
       "      <td>12-4</td>\n",
       "      <td>12-4</td>\n",
       "      <td>12-3</td>\n",
       "      <td>8-3</td>\n",
       "      <td>10-4</td>\n",
       "      <td>3-6</td>\n",
       "    </tr>\n",
       "    <tr>\n",
       "      <th>3</th>\n",
       "      <td>4</td>\n",
       "      <td>Denver Nuggets</td>\n",
       "      <td>57-25</td>\n",
       "      <td>38-3</td>\n",
       "      <td>19-22</td>\n",
       "      <td>19-11</td>\n",
       "      <td>38-14</td>\n",
       "      <td>5-5</td>\n",
       "      <td>10-0</td>\n",
       "      <td>4-6</td>\n",
       "      <td>...</td>\n",
       "      <td>24-4</td>\n",
       "      <td>11-7</td>\n",
       "      <td>28-8</td>\n",
       "      <td>0-1</td>\n",
       "      <td>8-8</td>\n",
       "      <td>9-6</td>\n",
       "      <td>12-3</td>\n",
       "      <td>8-4</td>\n",
       "      <td>13-2</td>\n",
       "      <td>7-1</td>\n",
       "    </tr>\n",
       "    <tr>\n",
       "      <th>4</th>\n",
       "      <td>5</td>\n",
       "      <td>Los Angeles Clippers</td>\n",
       "      <td>56-26</td>\n",
       "      <td>32-9</td>\n",
       "      <td>24-17</td>\n",
       "      <td>21-9</td>\n",
       "      <td>35-17</td>\n",
       "      <td>7-3</td>\n",
       "      <td>8-2</td>\n",
       "      <td>6-4</td>\n",
       "      <td>...</td>\n",
       "      <td>17-9</td>\n",
       "      <td>3-5</td>\n",
       "      <td>38-12</td>\n",
       "      <td>1-0</td>\n",
       "      <td>8-6</td>\n",
       "      <td>16-0</td>\n",
       "      <td>9-7</td>\n",
       "      <td>8-5</td>\n",
       "      <td>7-7</td>\n",
       "      <td>7-1</td>\n",
       "    </tr>\n",
       "  </tbody>\n",
       "</table>\n",
       "<p>5 rows × 24 columns</p>\n",
       "</div>"
      ],
      "text/plain": [
       "   Rk                   Team Overall  Home   Road      E      W     A     C  \\\n",
       "0   1             Miami Heat   66-16  37-4  29-12  41-11   25-5  14-4  12-6   \n",
       "1   2  Oklahoma City Thunder   60-22  34-7  26-15   21-9  39-13   7-3   8-2   \n",
       "2   3      San Antonio Spurs   58-24  35-6  23-18   25-5  33-19   8-2   9-1   \n",
       "3   4         Denver Nuggets   57-25  38-3  19-22  19-11  38-14   5-5  10-0   \n",
       "4   5   Los Angeles Clippers   56-26  32-9  24-17   21-9  35-17   7-3   8-2   \n",
       "\n",
       "     SE ...    Post    ≤3    ≥10  Oct   Nov   Dec   Jan   Feb   Mar  Apr  \n",
       "0  15-1 ...    30-2   9-3   39-8  1-0  10-3  10-5   8-5  12-1  17-1  8-1  \n",
       "1   6-4 ...    21-8   3-6   44-6  NaN  13-4  11-2  11-5   7-4  12-5  6-2  \n",
       "2   8-2 ...   16-12   9-5  31-10  1-0  12-4  12-4  12-3   8-3  10-4  3-6  \n",
       "3   4-6 ...    24-4  11-7   28-8  0-1   8-8   9-6  12-3   8-4  13-2  7-1  \n",
       "4   6-4 ...    17-9   3-5  38-12  1-0   8-6  16-0   9-7   8-5   7-7  7-1  \n",
       "\n",
       "[5 rows x 24 columns]"
      ]
     },
     "execution_count": 19,
     "metadata": {},
     "output_type": "execute_result"
    }
   ],
   "source": [
    "standings = pd.read_csv(standings_filename, skiprows=[0])\n",
    "standings.head()"
   ]
  },
  {
   "cell_type": "code",
   "execution_count": 20,
   "metadata": {},
   "outputs": [
    {
     "name": "stdout",
     "output_type": "stream",
     "text": [
      "done\n"
     ]
    }
   ],
   "source": [
    "df['HomeTeamRanksHigher'] = 0\n",
    "\n",
    "# Note that iterrows create a copy, so you can update the column with it\n",
    "for index, row in df.iterrows():\n",
    "    home_team = row['Home Team']\n",
    "    visitor_team = row['Visitor Team']\n",
    "    \n",
    "    # Correct the 2013 team name that has been renamed in 2014\n",
    "    if home_team == 'New Orleans Pelicans':\n",
    "        home_team = 'New Orleans Hornets'\n",
    "    elif visitor_team == 'New Orleans Pelicans':\n",
    "        visitor_team = 'New Orleans Hornets'\n",
    "    \n",
    "    home_rank = standings[standings['Team'] == home_team]['Rk'].values[0]\n",
    "    visitor_rank = standings[standings['Team'] == visitor_team]['Rk'].values[0]\n",
    "    \n",
    "    # Overwrite the values for the column\n",
    "    df.loc[index, 'HomeTeamRanksHigher'] = int(home_rank > visitor_rank)\n",
    "print('done')"
   ]
  },
  {
   "cell_type": "code",
   "execution_count": 23,
   "metadata": {},
   "outputs": [
    {
     "data": {
      "text/html": [
       "<div>\n",
       "<style>\n",
       "    .dataframe thead tr:only-child th {\n",
       "        text-align: right;\n",
       "    }\n",
       "\n",
       "    .dataframe thead th {\n",
       "        text-align: left;\n",
       "    }\n",
       "\n",
       "    .dataframe tbody tr th {\n",
       "        vertical-align: top;\n",
       "    }\n",
       "</style>\n",
       "<table border=\"1\" class=\"dataframe\">\n",
       "  <thead>\n",
       "    <tr style=\"text-align: right;\">\n",
       "      <th></th>\n",
       "      <th>Date</th>\n",
       "      <th>Start (ET)</th>\n",
       "      <th>Visitor Team</th>\n",
       "      <th>VisitorPts</th>\n",
       "      <th>Home Team</th>\n",
       "      <th>HomePts</th>\n",
       "      <th>Score Type</th>\n",
       "      <th>OT?</th>\n",
       "      <th>Notes</th>\n",
       "      <th>HomeWin</th>\n",
       "      <th>HomeLastWin</th>\n",
       "      <th>VisitorLastWin</th>\n",
       "      <th>HomeTeamRanksHigher</th>\n",
       "    </tr>\n",
       "  </thead>\n",
       "  <tbody>\n",
       "    <tr>\n",
       "      <th>0</th>\n",
       "      <td>2013-10-29</td>\n",
       "      <td>7:00 pm</td>\n",
       "      <td>Orlando Magic</td>\n",
       "      <td>87</td>\n",
       "      <td>Indiana Pacers</td>\n",
       "      <td>97</td>\n",
       "      <td>Box Score</td>\n",
       "      <td>NaN</td>\n",
       "      <td>NaN</td>\n",
       "      <td>True</td>\n",
       "      <td>False</td>\n",
       "      <td>False</td>\n",
       "      <td>0</td>\n",
       "    </tr>\n",
       "    <tr>\n",
       "      <th>1</th>\n",
       "      <td>2013-10-29</td>\n",
       "      <td>10:30 pm</td>\n",
       "      <td>Los Angeles Clippers</td>\n",
       "      <td>103</td>\n",
       "      <td>Los Angeles Lakers</td>\n",
       "      <td>116</td>\n",
       "      <td>Box Score</td>\n",
       "      <td>NaN</td>\n",
       "      <td>NaN</td>\n",
       "      <td>True</td>\n",
       "      <td>False</td>\n",
       "      <td>False</td>\n",
       "      <td>1</td>\n",
       "    </tr>\n",
       "    <tr>\n",
       "      <th>2</th>\n",
       "      <td>2013-10-29</td>\n",
       "      <td>8:00 pm</td>\n",
       "      <td>Chicago Bulls</td>\n",
       "      <td>95</td>\n",
       "      <td>Miami Heat</td>\n",
       "      <td>107</td>\n",
       "      <td>Box Score</td>\n",
       "      <td>NaN</td>\n",
       "      <td>NaN</td>\n",
       "      <td>True</td>\n",
       "      <td>False</td>\n",
       "      <td>False</td>\n",
       "      <td>0</td>\n",
       "    </tr>\n",
       "    <tr>\n",
       "      <th>3</th>\n",
       "      <td>2013-10-30</td>\n",
       "      <td>7:00 pm</td>\n",
       "      <td>Brooklyn Nets</td>\n",
       "      <td>94</td>\n",
       "      <td>Cleveland Cavaliers</td>\n",
       "      <td>98</td>\n",
       "      <td>Box Score</td>\n",
       "      <td>NaN</td>\n",
       "      <td>NaN</td>\n",
       "      <td>True</td>\n",
       "      <td>False</td>\n",
       "      <td>False</td>\n",
       "      <td>1</td>\n",
       "    </tr>\n",
       "    <tr>\n",
       "      <th>4</th>\n",
       "      <td>2013-10-30</td>\n",
       "      <td>8:30 pm</td>\n",
       "      <td>Atlanta Hawks</td>\n",
       "      <td>109</td>\n",
       "      <td>Dallas Mavericks</td>\n",
       "      <td>118</td>\n",
       "      <td>Box Score</td>\n",
       "      <td>NaN</td>\n",
       "      <td>NaN</td>\n",
       "      <td>True</td>\n",
       "      <td>False</td>\n",
       "      <td>False</td>\n",
       "      <td>1</td>\n",
       "    </tr>\n",
       "  </tbody>\n",
       "</table>\n",
       "</div>"
      ],
      "text/plain": [
       "        Date Start (ET)          Visitor Team  VisitorPts  \\\n",
       "0 2013-10-29    7:00 pm         Orlando Magic          87   \n",
       "1 2013-10-29   10:30 pm  Los Angeles Clippers         103   \n",
       "2 2013-10-29    8:00 pm         Chicago Bulls          95   \n",
       "3 2013-10-30    7:00 pm         Brooklyn Nets          94   \n",
       "4 2013-10-30    8:30 pm         Atlanta Hawks         109   \n",
       "\n",
       "             Home Team  HomePts Score Type  OT? Notes  HomeWin  HomeLastWin  \\\n",
       "0       Indiana Pacers       97  Box Score  NaN   NaN     True        False   \n",
       "1   Los Angeles Lakers      116  Box Score  NaN   NaN     True        False   \n",
       "2           Miami Heat      107  Box Score  NaN   NaN     True        False   \n",
       "3  Cleveland Cavaliers       98  Box Score  NaN   NaN     True        False   \n",
       "4     Dallas Mavericks      118  Box Score  NaN   NaN     True        False   \n",
       "\n",
       "   VisitorLastWin  HomeTeamRanksHigher  \n",
       "0           False                    0  \n",
       "1           False                    1  \n",
       "2           False                    0  \n",
       "3           False                    1  \n",
       "4           False                    1  "
      ]
     },
     "execution_count": 23,
     "metadata": {},
     "output_type": "execute_result"
    }
   ],
   "source": [
    "df.head()"
   ]
  },
  {
   "cell_type": "code",
   "execution_count": 33,
   "metadata": {},
   "outputs": [
    {
     "name": "stdout",
     "output_type": "stream",
     "text": [
      "[[False False 0]\n",
      " [False False 1]\n",
      " [False False 0]\n",
      " ..., \n",
      " [False False 0]\n",
      " [False False 0]\n",
      " [True False 1]]\n"
     ]
    }
   ],
   "source": [
    "X_home_higher = df[['HomeLastWin', 'VisitorLastWin', 'HomeTeamRanksHigher']].values\n",
    "print(X_home_higher)"
   ]
  },
  {
   "cell_type": "code",
   "execution_count": 36,
   "metadata": {},
   "outputs": [
    {
     "name": "stdout",
     "output_type": "stream",
     "text": [
      "Accuracy is: 57.4%\n"
     ]
    }
   ],
   "source": [
    "# Create classifier\n",
    "clf = DecisionTreeClassifier(random_state=14)\n",
    "scores = cross_val_score(clf, X_home_higher, y_true, scoring='accuracy')\n",
    "print('Accuracy is: {:.1f}%'.format(np.mean(scores) * 100))"
   ]
  },
  {
   "cell_type": "code",
   "execution_count": 39,
   "metadata": {},
   "outputs": [
    {
     "name": "stdout",
     "output_type": "stream",
     "text": [
      "done\n"
     ]
    }
   ],
   "source": [
    "# Create a dictionary that store the winner of the past game and\n",
    "# create a new feature in our data frame\n",
    "last_match_winner = defaultdict(int)\n",
    "df['HomeTeamLastWon'] = 0\n",
    "\n",
    "for index, row in df.iterrows():\n",
    "    home_team = row['Home Team']\n",
    "    visitor_team = row['Visitor Team']\n",
    "    \n",
    "    teams = tuple(sorted([home_team, visitor_team]))\n",
    "    row['HomeTeamWonLast'] = 1 if last_match_winner[teams] == row['Home Team'] else 0 \n",
    "    \n",
    "    # Update the column\n",
    "    df.loc[index, 'HomeTeamWonLast'] = row['HomeTeamWonLast']\n",
    "    \n",
    "    winner = row['Home Team'] if row['HomeWin'] else row['Visitor Team']\n",
    "    last_match_winner[teams] = winner\n",
    "print('done')"
   ]
  },
  {
   "cell_type": "code",
   "execution_count": 40,
   "metadata": {},
   "outputs": [
    {
     "name": "stdout",
     "output_type": "stream",
     "text": [
      "Accuracy: 57.8%\n"
     ]
    }
   ],
   "source": [
    "X_last_winner = df[['HomeTeamRanksHigher', 'HomeTeamWonLast']].values\n",
    "clf = DecisionTreeClassifier(random_state=14)\n",
    "scores = cross_val_score(clf, X_last_winner, y_true, scoring='accuracy')\n",
    "print('Accuracy: {:.1f}%'.format(np.mean(scores) * 100))"
   ]
  },
  {
   "cell_type": "code",
   "execution_count": 43,
   "metadata": {},
   "outputs": [
    {
     "data": {
      "text/plain": [
       "LabelEncoder()"
      ]
     },
     "execution_count": 43,
     "metadata": {},
     "output_type": "execute_result"
    }
   ],
   "source": [
    "# Create a new label encoder to convert between string-based team names into integers\n",
    "encoding = LabelEncoder()\n",
    "\n",
    "# Fit the transformer to the home teams\n",
    "encoding.fit(df['Home Team'].values)"
   ]
  },
  {
   "cell_type": "code",
   "execution_count": 45,
   "metadata": {
    "collapsed": true
   },
   "outputs": [],
   "source": [
    "home_teams = encoding.transform(df['Home Team'].values)\n",
    "visitor_teams = encoding.transform(df['Visitor Team'].values)\n",
    "X_teams = np.vstack([home_teams, visitor_teams]).T"
   ]
  },
  {
   "cell_type": "code",
   "execution_count": 47,
   "metadata": {
    "collapsed": true
   },
   "outputs": [],
   "source": [
    "# Create one hot encoder to encode integers into numbers of integer values\n",
    "onehot = OneHotEncoder()"
   ]
  },
  {
   "cell_type": "code",
   "execution_count": 48,
   "metadata": {
    "collapsed": true
   },
   "outputs": [],
   "source": [
    "X_teams_expanded = onehot.fit_transform(X_teams).todense()"
   ]
  },
  {
   "cell_type": "code",
   "execution_count": 50,
   "metadata": {},
   "outputs": [
    {
     "name": "stdout",
     "output_type": "stream",
     "text": [
      "Accuracy is 59.5%\n"
     ]
    }
   ],
   "source": [
    "clf = DecisionTreeClassifier(random_state=14)\n",
    "\n",
    "scores = cross_val_score(clf, X_teams_expanded, y_true, scoring='accuracy')\n",
    "print('Accuracy is {:.1f}%'.format(np.mean(scores) * 100))"
   ]
  },
  {
   "cell_type": "code",
   "execution_count": 56,
   "metadata": {},
   "outputs": [
    {
     "name": "stdout",
     "output_type": "stream",
     "text": [
      "Accuracy is 58.4%\n"
     ]
    }
   ],
   "source": [
    "clf = RandomForestClassifier(random_state=14)\n",
    "\n",
    "scores = cross_val_score(clf, X_teams, y_true, scoring='accuracy')\n",
    "print('Accuracy is {:.1f}%'.format(np.mean(scores) * 100))"
   ]
  },
  {
   "cell_type": "code",
   "execution_count": 58,
   "metadata": {},
   "outputs": [
    {
     "name": "stdout",
     "output_type": "stream",
     "text": [
      "Accuracy is 58.5%\n"
     ]
    }
   ],
   "source": [
    "X_all = np.hstack([X_home_higher, X_teams])\n",
    "\n",
    "clf = RandomForestClassifier(random_state=14)\n",
    "\n",
    "scores = cross_val_score(clf, X_all, y_true, scoring='accuracy')\n",
    "print('Accuracy is {:.1f}%'.format(np.mean(scores) * 100))"
   ]
  },
  {
   "cell_type": "code",
   "execution_count": 65,
   "metadata": {},
   "outputs": [
    {
     "name": "stdout",
     "output_type": "stream",
     "text": [
      "Accuracy of grid search: 65.0%\n"
     ]
    }
   ],
   "source": [
    "# Perform grid search\n",
    "parameter_space = {\n",
    "    'max_features': [2, 10, 'auto'],\n",
    "    'n_estimators': [100,],\n",
    "    'criterion': ['gini', 'entropy'],\n",
    "    'min_samples_leaf': [2, 4, 6]\n",
    "}\n",
    "clf = RandomForestClassifier(random_state=14)\n",
    "grid = GridSearchCV(clf, parameter_space)\n",
    "grid.fit(X_teams_expanded, y_true)\n",
    "print('Accuracy of grid search: {0:.1f}%'.format(grid.best_score_ * 100))"
   ]
  },
  {
   "cell_type": "code",
   "execution_count": 66,
   "metadata": {},
   "outputs": [
    {
     "name": "stdout",
     "output_type": "stream",
     "text": [
      "RandomForestClassifier(bootstrap=True, class_weight=None, criterion='entropy',\n",
      "            max_depth=None, max_features=2, max_leaf_nodes=None,\n",
      "            min_impurity_decrease=0.0, min_impurity_split=None,\n",
      "            min_samples_leaf=4, min_samples_split=2,\n",
      "            min_weight_fraction_leaf=0.0, n_estimators=100, n_jobs=1,\n",
      "            oob_score=False, random_state=14, verbose=0, warm_start=False)\n"
     ]
    }
   ],
   "source": [
    "print(grid.best_estimator_)"
   ]
  }
 ],
 "metadata": {
  "kernelspec": {
   "display_name": "Python 3",
   "language": "python",
   "name": "python3"
  },
  "language_info": {
   "codemirror_mode": {
    "name": "ipython",
    "version": 3
   },
   "file_extension": ".py",
   "mimetype": "text/x-python",
   "name": "python",
   "nbconvert_exporter": "python",
   "pygments_lexer": "ipython3",
   "version": "3.7.3"
  }
 },
 "nbformat": 4,
 "nbformat_minor": 2
}
